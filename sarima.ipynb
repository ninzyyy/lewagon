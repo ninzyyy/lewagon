{
 "cells": [
  {
   "cell_type": "markdown",
   "metadata": {},
   "source": [
    "# SARIMA Forecast"
   ]
  },
  {
   "cell_type": "markdown",
   "metadata": {},
   "source": [
    "## 01 - Background\n",
    "\n",
    "Our goal in this challenge is to apply the basic concepts of time series analysis to one-dimensional data (sales depending on the date).\n",
    "\n",
    "In this challenge, we'll go through the following steps:\n",
    "1. load and visualize the data;\n",
    "2. train our models and make predictions;\n",
    "3. use an econometric approach to model the series and be able to forecast it;\n",
    "4. use Machine Learning to hack this model.\n",
    "\n",
    "The dataset is courtesy of [Machine Learning Mastery](https://github.com/jbrownlee/). Run the line below to download it!"
   ]
  },
  {
   "cell_type": "code",
   "execution_count": null,
   "metadata": {},
   "outputs": [],
   "source": [
    "!curl https://raw.githubusercontent.com/jbrownlee/Datasets/master/monthly_champagne_sales.csv > data/monthly_champagne_sales.csv"
   ]
  },
  {
   "cell_type": "markdown",
   "metadata": {},
   "source": [
    "## 02 - Load Data\n",
    "Let's start by loading the time series of the challenge"
   ]
  },
  {
   "cell_type": "code",
   "execution_count": null,
   "metadata": {},
   "outputs": [],
   "source": [
    "import pandas as pd\n",
    "import matplotlib.pyplot as plt\n",
    "\n",
    "df = pd.read_csv(\"data/monthly_champagne_sales.csv\")\n",
    "df.head()"
   ]
  },
  {
   "attachments": {},
   "cell_type": "markdown",
   "metadata": {},
   "source": [
    "👉 Convert the DataFrame's \"Month\" column to `Datetime` objects, and set it as the index to make it look like this:\n",
    "<br>\n",
    "\n",
    "<img src=\"https://wagon-public-datasets.s3.amazonaws.com/data-science-images/05-ML/09-Time-Series/monthly_champagne_sales_objective.png\" width=180>"
   ]
  },
  {
   "cell_type": "code",
   "execution_count": null,
   "metadata": {
    "tags": [
     "challengify"
    ]
   },
   "outputs": [],
   "source": [
    "# YOUR CODE HERE"
   ]
  },
  {
   "cell_type": "markdown",
   "metadata": {},
   "source": [
    "### Alternative - Let Pandas do the Work"
   ]
  },
  {
   "cell_type": "code",
   "execution_count": null,
   "metadata": {},
   "outputs": [],
   "source": [
    "# We can also use pandas magic to handle the conversions from the start\n",
    "df = pd.read_csv(\"data/monthly_champagne_sales.csv\", parse_dates=['Month'], index_col='Month')\n",
    "df.head()"
   ]
  },
  {
   "cell_type": "markdown",
   "metadata": {},
   "source": [
    "## 04 - Visualize and Interpret the Data"
   ]
  },
  {
   "cell_type": "markdown",
   "metadata": {},
   "source": [
    "Well done, thanks to this re-indexing, you should now be able to plot the \"Sales\" (y-axis) as a function of the time (x-axis) easily"
   ]
  },
  {
   "cell_type": "code",
   "execution_count": null,
   "metadata": {},
   "outputs": [],
   "source": [
    "df[\"Sales\"].plot();"
   ]
  },
  {
   "cell_type": "markdown",
   "metadata": {},
   "source": [
    "If your code is correct, you should be able to see that this time series (TS) is:\n",
    "- Not stationary (mean and variance are not constant).\n",
    "- Exhibits strong seasonality.\n",
    "- Seems to have a trend.\n",
    "\n",
    "Let's see a decomposition of the data between **trend**, **seasonality** and **noise**. To do that, you have to make use of statsmodels' [`seasonal_decompose`](https://www.statsmodels.org/stable/generated/statsmodels.tsa.seasonal.seasonal_decompose.html). Read the docs and make sure you understand what this function is doing and how to use it, then:\n",
    "1. Plot the \"Sales\" with an \"additive\" model\n",
    "2. Plot the \"Sales\" with a \"multiplicative\" model\n",
    "\n",
    "Pro tips: end your statsmodels plot method calls with a semicolon (`;`) to avoid double-plotting issues!"
   ]
  },
  {
   "cell_type": "code",
   "execution_count": null,
   "metadata": {
    "tags": [
     "challengify"
    ]
   },
   "outputs": [],
   "source": [
    "# YOUR CODE HERE"
   ]
  },
  {
   "cell_type": "markdown",
   "metadata": {},
   "source": [
    "👉 De-seasonalize this time series using the decomposition of your choice"
   ]
  },
  {
   "cell_type": "code",
   "execution_count": null,
   "metadata": {
    "tags": [
     "challengify"
    ]
   },
   "outputs": [],
   "source": [
    "# YOUR CODE HERE"
   ]
  },
  {
   "cell_type": "markdown",
   "metadata": {},
   "source": [
    "☝️ We could fit an ARIMA model on a \"deseasonalized\" version of this time series, and then re-compose it after our forecast. But in this challenge, we will use SARIMA models to _directly_ fit the original time series!"
   ]
  },
  {
   "cell_type": "markdown",
   "metadata": {},
   "source": [
    "## 05 - Split the Data (train/test)\n"
   ]
  },
  {
   "cell_type": "markdown",
   "metadata": {},
   "source": [
    "For time series, we cannot randomly sample points to be in the test set. The test set needs to be \"out-of-time\", that is, strictly in the future of the test set. For this exercise, we will use data up to 1970 for training, and anything after that will be used for the test.\n",
    "\n",
    "👉 create `df_train` and `df_test`, splitting the DataFrame before 1970 for the training and after (or equal to) for the testing"
   ]
  },
  {
   "cell_type": "code",
   "execution_count": null,
   "metadata": {
    "tags": [
     "challengify"
    ]
   },
   "outputs": [],
   "source": [
    "# YOUR CODE HERE"
   ]
  },
  {
   "cell_type": "markdown",
   "metadata": {},
   "source": [
    "## 06 - SARIMA\n",
    "We will analyze the data using a SARIMA model (Seasonal Auto-Regressive Integrated Moving Average).\n",
    "\n",
    "\n",
    "We need to :\n",
    "- find how to stationarize the time series (I in SARIMA)\n",
    "- find the auto-regressive (AR) part\n",
    "- find the moving average (MA) part\n",
    "- find the seasonality (S)"
   ]
  },
  {
   "cell_type": "markdown",
   "metadata": {},
   "source": [
    "### Step 1: Check Stationarity\n",
    "\n",
    "If a time series has a trend or seasonality component, it must be made stationary before we can use ARIMA to forecast.\n",
    "\n",
    "A glance at the plot above should be sufficient to convince you that the time series is not stationary.\n",
    "\n",
    "Double check the stationarity of `df[\"Sales\"]` using the [`Augmented Dick Fuller test`](https://www.statsmodels.org/stable/generated/statsmodels.tsa.stattools.adfuller.html) and especially its p-value"
   ]
  },
  {
   "cell_type": "code",
   "execution_count": null,
   "metadata": {
    "tags": [
     "challengify"
    ]
   },
   "outputs": [],
   "source": [
    "# YOUR CODE HERE"
   ]
  },
  {
   "cell_type": "markdown",
   "metadata": {},
   "source": [
    "The p-value should be less than 0.05 to have a 95% confidence in the stationarity.  \n",
    "\n",
    "If the p-value is larger than 0.05, we cannot reject the null hypothesis (null hypothesis = \"the process is not stationary\").\n",
    "\n",
    "Ideally, p is *much* smaller than 0.05.\n",
    "\n",
    "Another way to look for stationarity is to look at the autocorrelation function (ACF).\n",
    "\n",
    "Plot the ACF of the time series. You should see a large peak at lag 12, indicating strong yearly seasonality."
   ]
  },
  {
   "cell_type": "code",
   "execution_count": null,
   "metadata": {
    "tags": [
     "challengify"
    ]
   },
   "outputs": [],
   "source": [
    "# YOUR CODE HERE"
   ]
  },
  {
   "cell_type": "markdown",
   "metadata": {},
   "source": [
    "### Step 2 - Seasonal Differencing (D)\n",
    "\n",
    "We have a strong seasonality with a period of 12 months.\n",
    "\n",
    "Do a **seasonal differencing of lag 12** on the time series, plot the differenced data, and check the ACF plot (+ADF test) again.\n",
    "\n",
    "Don't forget to drop NaN's."
   ]
  },
  {
   "cell_type": "code",
   "execution_count": null,
   "metadata": {
    "tags": [
     "challengify"
    ]
   },
   "outputs": [],
   "source": [
    "# YOUR CODE HERE"
   ]
  },
  {
   "cell_type": "markdown",
   "metadata": {},
   "source": [
    "☝️ One single seasonal differencing seems enough to stationarize the TS.  \n",
    "D=1 (1 seasonal diff) and m=12 (seasonality = 12) for SARIMA(p,d,q, P,D,Q,m)"
   ]
  },
  {
   "cell_type": "markdown",
   "metadata": {},
   "source": [
    "### Step 3 - Differencing (d)\n",
    "\n",
    "If the time series is still not stationary, it needs to be stationarized through *differencing*. It means that we take the difference between each value and the preceding one (*first difference*).\n",
    "\n",
    "Do we need further differencing after removing the seasonality?\n",
    "\n",
    "Check the ACF and ADF after running an additional first-order diff(1) on your diff(12) series."
   ]
  },
  {
   "cell_type": "code",
   "execution_count": null,
   "metadata": {
    "tags": [
     "challengify"
    ]
   },
   "outputs": [],
   "source": [
    "# YOUR CODE HERE"
   ]
  },
  {
   "cell_type": "markdown",
   "metadata": {},
   "source": [
    "👉 Additional differencing made both the p-value and the ACF look worse! \n",
    "We can select (d=0) and (D=1)"
   ]
  },
  {
   "cell_type": "markdown",
   "metadata": {},
   "source": [
    "### Step 4 - Select AR(p, P) and MA(q, Q) Terms\n",
    "\n",
    "You will now use the ACF and PACF plots to decide whether to include an AR term(s), MA term(s), or both."
   ]
  },
  {
   "cell_type": "markdown",
   "metadata": {},
   "source": [
    "- The autocorrelation plot ([`plot_acf`](https://www.statsmodels.org/stable/generated/statsmodels.graphics.tsaplots.plot_acf.html)) applied to your **fully differentiated** series allows you to select an MA number (`q`)\n",
    "- MA($\\color{blue}{q}$) = number of lags beyond which the $\\color{blue}{ACF}$ of  $Y^{\\color{green}{(d+D)}}$ cuts off\n",
    "\n",
    "\n",
    "- The partial autocorrelation plot [`plot_pacf`](https://www.statsmodels.org/stable/generated/statsmodels.graphics.tsaplots.plot_pacf.html) applied to your **fully differentiated** series allows you to select AR (`p`)\n",
    "- AR($\\color{red}{p}$) = number of lags beyond which the $\\color{red}{PACF}$ of $Y^{\\color{green}{(d+D)}}$  cuts off"
   ]
  },
  {
   "cell_type": "code",
   "execution_count": null,
   "metadata": {
    "tags": [
     "challengify"
    ]
   },
   "outputs": [],
   "source": [
    "# YOUR CODE HERE"
   ]
  },
  {
   "cell_type": "markdown",
   "metadata": {},
   "source": [
    "☝️ It seems like there are no significant peaks in either ACF or PACF, so most likely p=q=0.  \n",
    "Our first guess for SARIMA is therefore d=0, p=q=0, D=1 and m=12.  "
   ]
  },
  {
   "cell_type": "markdown",
   "metadata": {},
   "source": [
    "How to find values for P and Q? Here, we will let `pdarima` try values 1 and 0 for P and Q with a grid_search for us.\n",
    "If you want to find these coefficients by yourself, [read this](https://analyticsindiamag.com/quick-way-to-find-p-d-and-q-values-for-arima/) for some rules of thumb\n",
    "\n",
    "👉 Run [auto_arima](https://alkaline-ml.com/pmdarima/modules/generated/pmdarima.arima.auto_arima.html) for the training set. Set seasonal=True, m=12 and D=1. Search for p and q, P and Q from 0 to 2. Then, print the summary of the model with model.summary().\n",
    "Use `njobs=-1, trace=True, error_action='ignore', suppress_warnings=True`"
   ]
  },
  {
   "cell_type": "code",
   "execution_count": null,
   "metadata": {
    "tags": [
     "challengify"
    ]
   },
   "outputs": [],
   "source": [
    "# YOUR CODE HERE"
   ]
  },
  {
   "cell_type": "markdown",
   "metadata": {},
   "source": [
    "The best model found is `ARIMA(0,0,0)(0,1,0)[12]`!\n",
    "This means that the time series considered does not justify adding any \"auto-regressive\" or \"moving average\" modelling beyond simple \"seasonal differencing\".\n",
    "\n",
    "Such a \"poor\" model is only likely to predict a repetition of the last seasonal pattern detected, along with the prolongation of the mean increasing trend. Let's check it out"
   ]
  },
  {
   "cell_type": "markdown",
   "metadata": {},
   "source": [
    "👉 Use `model.predict` with `n_periods` = length of the test set to save the following three predictions\n",
    "- `central`\n",
    "- `upper`\n",
    "- `lower`\n",
    "\n",
    "Save them as a Pandas Series, and index them by the same index as your `y_test`"
   ]
  },
  {
   "cell_type": "code",
   "execution_count": null,
   "metadata": {
    "tags": [
     "challengify"
    ]
   },
   "outputs": [],
   "source": [
    "# YOUR CODE HERE"
   ]
  },
  {
   "cell_type": "markdown",
   "metadata": {},
   "source": [
    "👇 Run the cell below to plot your predictions against reality"
   ]
  },
  {
   "cell_type": "code",
   "execution_count": null,
   "metadata": {},
   "outputs": [],
   "source": [
    "# Plot\n",
    "plt.figure(figsize=(12, 5), dpi=100)\n",
    "\n",
    "plt.plot(df_train, label = \"train values\")\n",
    "plt.plot(df_test, label = \"true test values\")\n",
    "plt.plot(central, color='darkgreen',label = \"forecast\")\n",
    "\n",
    "plt.fill_between(\n",
    "    lower.index, \n",
    "    lower, \n",
    "    upper, \n",
    "    color='k', alpha=.15\n",
    ")\n",
    "\n",
    "plt.title(\"SARIMA Forecast\")\n",
    "plt.legend()\n",
    "plt.show()"
   ]
  },
  {
   "cell_type": "markdown",
   "metadata": {},
   "source": [
    "👉 Try to assign non-null values to `p`, `d`, `P`, `D` on your SARIMA and re-plot this chart to compare effects!"
   ]
  },
  {
   "cell_type": "markdown",
   "metadata": {},
   "source": [
    "# OPTIONAL - Machine Learning Approach"
   ]
  },
  {
   "cell_type": "markdown",
   "metadata": {},
   "source": [
    "### Model with a forecast horizon = 1 month only"
   ]
  },
  {
   "cell_type": "markdown",
   "metadata": {},
   "source": [
    "We will now fit a non-linear model such as a Random Forest. The idea is to predict a value from the last ones. \n",
    "\n",
    "👉 Create new columns in `df` that are a shifted version of `df['Sales']`. Do it with a shift from 1 to 12."
   ]
  },
  {
   "cell_type": "code",
   "execution_count": null,
   "metadata": {
    "tags": [
     "challengify"
    ]
   },
   "outputs": [],
   "source": [
    "# YOUR CODE HERE"
   ]
  },
  {
   "cell_type": "markdown",
   "metadata": {},
   "source": [
    "👉 Instantiate (don't train) a `random forest` algorithm to predict Sales based on your shifted features"
   ]
  },
  {
   "cell_type": "code",
   "execution_count": null,
   "metadata": {
    "tags": [
     "challengify"
    ]
   },
   "outputs": [],
   "source": [
    "# YOUR CODE HERE"
   ]
  },
  {
   "cell_type": "markdown",
   "metadata": {},
   "source": [
    "👉 You can use the following function to test it. It takes the true y values (`data` which should be a NumPy array), the indexes of the test samples (`test_indexes`), the predictor (`predictor`: your random forest algorithm), and the shifted columns (`full_X` which should be a NumPy array)."
   ]
  },
  {
   "cell_type": "code",
   "execution_count": null,
   "metadata": {},
   "outputs": [],
   "source": [
    "# For each predictor, design a method to evaluate its performance on the test set:\n",
    "from sklearn.metrics import r2_score\n",
    "\n",
    "def evaluate_performance_month_prediction(y_true, test_indexes, predictor, full_X):\n",
    "    predictions = []\n",
    "    ground_truth = []\n",
    "    i = 0\n",
    "\n",
    "    for _index in test_indexes:\n",
    "        train_data = y_true[:_index]\n",
    "        current_ground_truth = y_true[_index]\n",
    "        current_ground_truth_features = full_X[_index,:]\n",
    "        train_features = full_X[:_index]\n",
    "\n",
    "        # train the model on all data points until (t-1) to predict (t)\n",
    "        predictor.fit(train_features, train_data)\n",
    "        prediction = predictor.predict(current_ground_truth_features.reshape(1,-1))[0]\n",
    "        predictions.append(prediction)\n",
    "        ground_truth.append(current_ground_truth)\n",
    "\n",
    "        i += 1\n",
    "\n",
    "    mape = np.mean(np.abs(np.array(predictions) - np.array(ground_truth))/np.abs(np.array(ground_truth)))\n",
    "\n",
    "    return ground_truth, predictions, mape"
   ]
  },
  {
   "cell_type": "code",
   "execution_count": null,
   "metadata": {
    "tags": [
     "challengify"
    ]
   },
   "outputs": [],
   "source": [
    "# YOUR CODE HERE"
   ]
  },
  {
   "cell_type": "markdown",
   "metadata": {},
   "source": [
    "To improve our model, we can do some feature engineering. You will add moving averages to the data used to train the random forest.\n",
    "\n",
    "Try to create 3 new columns in `df`: one which is the rolling average of `df[Sales]` with a window of 12, one with a window of 3, and one with a window of 2. This will have the effect of isolating the trend and allowing the algorithm to learn it. Plot these data.\n"
   ]
  },
  {
   "cell_type": "code",
   "execution_count": null,
   "metadata": {
    "tags": [
     "challengify"
    ]
   },
   "outputs": [],
   "source": [
    "# YOUR CODE HERE"
   ]
  },
  {
   "cell_type": "markdown",
   "metadata": {},
   "source": [
    "You can also add a stronger smoothing predictor using the exponential moving average (hint: method `.ewm` with a `halflife` of 2, 3, and 12), which statistically optimizes an AR process. Plot these data."
   ]
  },
  {
   "cell_type": "code",
   "execution_count": null,
   "metadata": {
    "tags": [
     "challengify"
    ]
   },
   "outputs": [],
   "source": [
    "# YOUR CODE HERE"
   ]
  },
  {
   "cell_type": "markdown",
   "metadata": {},
   "source": [
    "You should see a better MAPE!"
   ]
  },
  {
   "cell_type": "markdown",
   "metadata": {},
   "source": [
    "Try to look at the importance of each feature. What do you find?\n"
   ]
  },
  {
   "cell_type": "code",
   "execution_count": null,
   "metadata": {
    "tags": [
     "challengify"
    ]
   },
   "outputs": [],
   "source": [
    "# YOUR CODE HERE"
   ]
  },
  {
   "cell_type": "markdown",
   "metadata": {},
   "source": [
    "### Out-of-Sample Forecast Models"
   ]
  },
  {
   "cell_type": "markdown",
   "metadata": {},
   "source": [
    "Let's now try to beat SARIMA in the \"out-of-sample\" prediction. \n",
    "\n",
    "👉 Train _one model per horizon of forecast_ (from `1`-month horizon to `len(y_test)` months)  \n",
    "👉 Evaluate MAPE and compare with SARIMA"
   ]
  },
  {
   "cell_type": "code",
   "execution_count": null,
   "metadata": {
    "tags": [
     "challengify"
    ]
   },
   "outputs": [],
   "source": [
    "# YOUR CODE HERE"
   ]
  }
 ],
 "metadata": {
  "kernelspec": {
   "display_name": "Python 3",
   "language": "python",
   "name": "python3"
  }
 },
 "nbformat": 4,
 "nbformat_minor": 4
}
