{
 "cells": [
  {
   "cell_type": "markdown",
   "metadata": {},
   "source": [
    "# Intuitions on Convolutions"
   ]
  },
  {
   "cell_type": "markdown",
   "metadata": {},
   "source": [
    "Let's build some intuitions about these **`convolution operations`**.\n",
    "\n",
    "🎯 <b><u>Goals</u>:</b>\n",
    "- **Understand convolution operations**\n",
    "- **Visualize**\n",
    "    - convolution kernels\n",
    "    - the effects of a convolution kernel applied on images\n",
    "\n",
    "<hr>\n",
    "\n",
    "🖼 <b><u>Convolutional Neural Networks are Neural Networks specifically designed to work on images</u></b>. \n",
    "\n",
    "- 🧮 This is made possible thanks to **`convolution operations`**.\n",
    "\n",
    "- 🔎 These specific mathematical operations apply a **`filter`** (i.e. a set of **`kernels`**, one per channel) to an input image and create an **`output representation`**. For Convolutional Neural Networks, this can also be called:\n",
    "    * a **`\"convoluted representation/feature\"`**,\n",
    "    * or a **`\"convolution\"`**,\n",
    "    * or also an **`\"activation\"`** (as it corresponds to the activation of a given layer).\n",
    "\n",
    "<img src=\"convolution.png\" width=\"300\">\n",
    "\n",
    "---\n",
    "\n",
    "❗️ <b><u>Remarks</u></b> ❗️\n",
    "\n",
    "* It is important to understand that **the same kernel (i.e. the same weights) is applied to different areas of the images**. \n",
    "\n",
    "* This is completely different from Dense Neural Networks that we've been working with during the first two units of the Deep Learning module:\n",
    "    * In `Dense/\"Fully Connected\" Neural Networks`, each weight of a given neuron is related to only one input coordinate (which, in images, would correspond to one pixel).\n",
    "    * In `Convolution Neural Networks`, the weights of a kernel are not applied to only one feature input, i.e. one pixel, but to different pixels, \"step by step\"!\n",
    "\n",
    "👉 You can think of each kernel (or each filter in the case of colored images) as a **`magnifying glass`** through which you see the image. Similarly to your eyes, kernels cannot capture everything in a picture at once, but they ***scan different parts of a picture to understand the whole picture that is being analyzed***.\n",
    "\n",
    "🎬 So let's have a closer look at `convolution operations`, and their impact in `Convolutional Neural Networks`."
   ]
  },
  {
   "cell_type": "markdown",
   "metadata": {},
   "source": [
    "## (0) The dataset"
   ]
  },
  {
   "cell_type": "markdown",
   "metadata": {},
   "source": [
    "First, let's use the following function `load_data` to... load the data.\n",
    "\n",
    "* Do not change anything in the function!\n",
    "* Restrict from any desire to change the shapes or types of the outputs! This will have an impact on further questions."
   ]
  },
  {
   "cell_type": "code",
   "execution_count": 1,
   "metadata": {},
   "outputs": [],
   "source": [
    "import os\n",
    "import numpy as np\n",
    "import pandas as pd\n",
    "\n",
    "from matplotlib.pyplot import imread\n",
    "\n",
    "import matplotlib.pyplot as plt\n",
    "%matplotlib inline\n",
    "\n",
    "def load_data(path):\n",
    "    nb_circles = 100\n",
    "    nb_triangles = 100\n",
    "    \n",
    "    X, y = [], []\n",
    "    \n",
    "    for i in range(nb_circles):\n",
    "        c_path = os.path.join(path, 'circles', f'circle_{i}.png')\n",
    "        X.append(imread(c_path)[:, :, :1])\n",
    "        y.append(0)\n",
    "    \n",
    "    for i in range(nb_triangles):\n",
    "        t_path = os.path.join(path, 'triangles', f'triangle_{i}.png')\n",
    "        X.append(imread(t_path)[:, :, :1])\n",
    "        y.append(1)\n",
    "        \n",
    "    c = list(zip(X, y))\n",
    "    np.random.shuffle(c)\n",
    "    X, y = zip(*c)\n",
    "        \n",
    "    return np.array(X), np.array(y)\n",
    "        \n",
    "X, y = load_data(\"data\")\n",
    "# Replace data by \"https://wagon-public-datasets.s3.amazonaws.com/deep-learning-circles-triangles/\" \n",
    "# if you are on a server"
   ]
  },
  {
   "cell_type": "markdown",
   "metadata": {},
   "source": [
    "❓ **Question about the shape** ❓\n",
    "\n",
    "* How many images do we have?\n",
    "* What are their dimensions? \n",
    "* Can you comment on the number of channels? "
   ]
  },
  {
   "cell_type": "code",
   "execution_count": 2,
   "metadata": {
    "tags": [
     "challengify"
    ]
   },
   "outputs": [
    {
     "data": {
      "text/plain": [
       "(200, 76, 78, 1)"
      ]
     },
     "execution_count": 2,
     "metadata": {},
     "output_type": "execute_result"
    }
   ],
   "source": [
    "# YOUR CODE HERE\n",
    "X.shape"
   ]
  },
  {
   "cell_type": "code",
   "execution_count": 3,
   "metadata": {},
   "outputs": [],
   "source": [
    "# There are 200 images of 76 x 78 pixels with 1 channel."
   ]
  },
  {
   "cell_type": "markdown",
   "metadata": {},
   "source": [
    "<details>\n",
    "    <summary><i>About the number of channels:</i></summary>\n",
    "   \n",
    "Actually, we have already talked about this during the `MNIST challenge`.        \n",
    "        \n",
    "*  We need only one channel to compute the \"*blackness intensity*\" of a pixel with 0 corresponding to a black pixel and 1 corresponding to a white pixel. The last dimension corresponds to some kind of  \"Black to white channel\". \n",
    "        \n",
    "🎨 For colored images, the last dimension would be equal to 3 for `Red, Green, Blue (RGB)`\n",
    "\n",
    "👉 Have fun playing with the intensities of Red, Green and Blue <a href=\"https://www.w3schools.com/colors/colors_rgb.asp\">`here`</a>\n",
    "        \n",
    "        \n",
    "</details>        "
   ]
  },
  {
   "cell_type": "markdown",
   "metadata": {},
   "source": [
    "❓ **Question about the normalization** ❓\n",
    "\n",
    "Do these images need some normalization? "
   ]
  },
  {
   "cell_type": "code",
   "execution_count": 7,
   "metadata": {
    "tags": [
     "challengify"
    ]
   },
   "outputs": [],
   "source": [
    "# YOUR CODE HERE\n",
    "X_normalized = X / 255"
   ]
  },
  {
   "cell_type": "markdown",
   "metadata": {},
   "source": [
    "👀 Let's have a look at some images with `plt.imshow` and show their respective labels."
   ]
  },
  {
   "cell_type": "code",
   "execution_count": 8,
   "metadata": {},
   "outputs": [
    {
     "data": {
      "image/png": "[encoded data removed]",
      "text/plain": [
       "<Figure size 640x480 with 1 Axes>"
      ]
     },
     "metadata": {},
     "output_type": "display_data"
    },
    {
     "data": {
      "image/png": "[encoded data removed]",
      "text/plain": [
       "<Figure size 640x480 with 1 Axes>"
      ]
     },
     "metadata": {},
     "output_type": "display_data"
    },
    {
     "data": {
      "image/png": "[encoded data removed]",
      "text/plain": [
       "<Figure size 640x480 with 1 Axes>"
      ]
     },
     "metadata": {},
     "output_type": "display_data"
    },
    {
     "data": {
      "image/png": "[encoded data removed]",
      "text/plain": [
       "<Figure size 640x480 with 1 Axes>"
      ]
     },
     "metadata": {},
     "output_type": "display_data"
    },
    {
     "data": {
      "image/png": "[encoded data removed]",
      "text/plain": [
       "<Figure size 640x480 with 1 Axes>"
      ]
     },
     "metadata": {},
     "output_type": "display_data"
    },
    {
     "data": {
      "image/png": "[encoded data removed]",
      "text/plain": [
       "<Figure size 640x480 with 1 Axes>"
      ]
     },
     "metadata": {},
     "output_type": "display_data"
    },
    {
     "data": {
      "image/png": "[encoded data removed]",
      "text/plain": [
       "<Figure size 640x480 with 1 Axes>"
      ]
     },
     "metadata": {},
     "output_type": "display_data"
    }
   ],
   "source": [
    "for iter_, (image, label) in enumerate(zip(X, y)):\n",
    "    plt.imshow(image[:, :, 0], cmap='gray')\n",
    "    plt.title('Triangle' if label == 1 else 'Circle')\n",
    "    plt.show()\n",
    "    \n",
    "    if iter_ > 5:\n",
    "        break"
   ]
  },
  {
   "cell_type": "markdown",
   "metadata": {},
   "source": [
    "❓ **Question: How many classes are we going to predict** ❓\n",
    "\n",
    "_This information will help you design the last layer of your Convolutional Network_"
   ]
  },
  {
   "cell_type": "code",
   "execution_count": 24,
   "metadata": {
    "tags": []
   },
   "outputs": [
    {
     "data": {
      "text/plain": [
       "array([0, 1])"
      ]
     },
     "execution_count": 24,
     "metadata": {},
     "output_type": "execute_result"
    }
   ],
   "source": [
    "# YOUR CODE HERE\n",
    "np.unique(y) # There are TWO classes that we are going to predict."
   ]
  },
  {
   "cell_type": "markdown",
   "metadata": {},
   "source": [
    "## (1) Kernels & Convolutions"
   ]
  },
  {
   "cell_type": "markdown",
   "metadata": {},
   "source": [
    "🎁 The following function **`compute_convolution`** performs a **convolution operation** $ \\Leftrightarrow $ i.e. *it applies a kernel to an image*."
   ]
  },
  {
   "cell_type": "markdown",
   "metadata": {},
   "source": [
    "❓ **Question about the `compute_convolution` function** ❓\n",
    "\n",
    "Run it and try to understand the different steps of this function."
   ]
  },
  {
   "cell_type": "code",
   "execution_count": 25,
   "metadata": {},
   "outputs": [],
   "source": [
    "def compute_convolution(input_image, kernel):\n",
    "    # Parameters\n",
    "    kernel = np.array(kernel)\n",
    "    kernel_height, kernel_width = kernel.shape\n",
    "\n",
    "    img = np.squeeze(input_image) # Removes dimensions of size 1\n",
    "    img_height, img_width = img.shape\n",
    "    \n",
    "    output_image = []\n",
    "\n",
    "    for x in range(img_height - kernel_height + 1):\n",
    "        arr = []\n",
    "        \n",
    "        for y in range(img_width - kernel_width + 1):\n",
    "            \n",
    "            a = np.multiply(img[x: x + kernel_height, y: y + kernel_width],\n",
    "                            kernel)\n",
    "            arr.append(a.sum())\n",
    "            \n",
    "        output_image.append(arr)\n",
    "        \n",
    "    return output_image"
   ]
  },
  {
   "cell_type": "markdown",
   "metadata": {},
   "source": [
    "❓ **How does the `compute_convolution` function work in practice** ❓ \n",
    "\n",
    "1. Choose any image from the input dataset\n",
    "2. Apply the `identity_kernel` to it\n",
    "3. Display both the input image and the output image. \n",
    "4. Do you see any differences?"
   ]
  },
  {
   "cell_type": "code",
   "execution_count": 26,
   "metadata": {},
   "outputs": [],
   "source": [
    "identity_kernel = [\n",
    "    [0, 0, 0],\n",
    "    [0, 1, 0],\n",
    "    [0, 0, 0]\n",
    "]"
   ]
  },
  {
   "cell_type": "code",
   "execution_count": 32,
   "metadata": {
    "tags": [
     "challengify"
    ]
   },
   "outputs": [
    {
     "data": {
      "image/png": "[encoded data removed]",
      "text/plain": [
       "<Figure size 640x480 with 1 Axes>"
      ]
     },
     "metadata": {},
     "output_type": "display_data"
    }
   ],
   "source": [
    "# YOUR CODE HERE\n",
    "plt.imshow(X_normalized[0], cmap='gray');"
   ]
  },
  {
   "cell_type": "code",
   "execution_count": 35,
   "metadata": {},
   "outputs": [
    {
     "data": {
      "text/plain": [
       "<matplotlib.image.AxesImage at 0x1689ba950>"
      ]
     },
     "execution_count": 35,
     "metadata": {},
     "output_type": "execute_result"
    },
    {
     "data": {
      "image/png": "[encoded data removed]",
      "text/plain": [
       "<Figure size 640x480 with 1 Axes>"
      ]
     },
     "metadata": {},
     "output_type": "display_data"
    }
   ],
   "source": [
    "new_image = compute_convolution(X_normalized[0], identity_kernel)\n",
    "plt.imshow(new_image, cmap='gray')"
   ]
  },
  {
   "cell_type": "markdown",
   "metadata": {},
   "source": [
    "<details>\n",
    "    <summary><i>Answer</i></summary>\n",
    "        \n",
    "🧑🏻‍🏫 The previous kernel corresponds to the **`identity_kernel`**, meaning that ***the output is equal to the input***... \n",
    "    \n",
    "🕵🏻‍♂️ It basically did nothing to the input image. It you think about it thoroughly, that's not surprising. With this kernel, only the pixel scanned in the middle was kept and multiplied by one, the surrounding pixels were multiplied by zero.        \n",
    "        \n",
    "</details>        "
   ]
  },
  {
   "cell_type": "markdown",
   "metadata": {},
   "source": [
    "🎁 We coded a function **`plot_convolution`** that plots the output image after applying a kernel to an input image."
   ]
  },
  {
   "cell_type": "code",
   "execution_count": 36,
   "metadata": {},
   "outputs": [],
   "source": [
    "def plot_convolution(img, kernel, activation=False):\n",
    "    ''' The following printing function ease the visualization'''\n",
    "    \n",
    "    img = np.squeeze(img)\n",
    "    output_img = compute_convolution(img, kernel)\n",
    "    if activation:\n",
    "        output_img = np.maximum(output_img, 0)\n",
    "    \n",
    "    plt.figure(figsize=(10, 5))\n",
    "    \n",
    "    ax1 = plt.subplot2grid((3,3),(0,0), rowspan=3)\n",
    "    ax1.imshow(img, cmap='gray')\n",
    "    ax1.title.set_text('Input image')\n",
    "    \n",
    "    ax2 = plt.subplot2grid((3,3),(1, 1))\n",
    "    ax2.imshow(kernel, cmap='gray')\n",
    "    ax2.title.set_text('Kernel')    \n",
    "    \n",
    "    ax3 = plt.subplot2grid((3,3),(0, 2), rowspan=3)\n",
    "    ax3.imshow(output_img, cmap='gray')\n",
    "    ax3.title.set_text('Output image')    \n",
    "\n",
    "    for ax in [ax1, ax2, ax3]:\n",
    "        ax.axes.get_xaxis().set_visible(False)\n",
    "        ax.axes.get_yaxis().set_visible(False)\n",
    "        \n",
    "    plt.show()"
   ]
  },
  {
   "cell_type": "markdown",
   "metadata": {},
   "source": [
    "❓ **Question** ❓ Apply `plot_convolution` with the following `kernel_1` once on an triangle and once on a circle.\n"
   ]
  },
  {
   "cell_type": "code",
   "execution_count": 38,
   "metadata": {},
   "outputs": [],
   "source": [
    "kernel_1 = [\n",
    "    [1, 1, 1],\n",
    "    [0, 0, 0],\n",
    "    [-1, -1, -1]\n",
    "]"
   ]
  },
  {
   "cell_type": "code",
   "execution_count": 43,
   "metadata": {
    "tags": [
     "challengify"
    ]
   },
   "outputs": [
    {
     "data": {
      "image/png": "[encoded data removed]",
      "text/plain": [
       "<Figure size 1000x500 with 3 Axes>"
      ]
     },
     "metadata": {},
     "output_type": "display_data"
    }
   ],
   "source": [
    "# YOUR CODE HERE\n",
    "plot_convolution(X_normalized[15], kernel_1)"
   ]
  },
  {
   "cell_type": "code",
   "execution_count": 44,
   "metadata": {},
   "outputs": [
    {
     "data": {
      "image/png": "[encoded data removed]",
      "text/plain": [
       "<Figure size 1000x500 with 3 Axes>"
      ]
     },
     "metadata": {},
     "output_type": "display_data"
    }
   ],
   "source": [
    "plot_convolution(X_normalized[16], kernel_1)"
   ]
  },
  {
   "cell_type": "markdown",
   "metadata": {},
   "source": [
    "👆 Let's analyze what just happened:\n",
    "\n",
    "* White pixels correspond to high values and black pixels to low values.\n",
    "* In a Neural Network, remember that we use activation functions to remove linearities. \n",
    "    * *For example*, when the activation function is `relu`, you already know that it simply corresponds to setting the negative values to 0.\n",
    "\n",
    "---\n",
    "\n",
    "❓ **What is the impact of the activation function in a Convolutional Layer ?** ❓\n",
    "\n",
    "Re-run the previous function `plot_convolution` with `activation` set to `True` (in this case, the activation function _is_ the relu)."
   ]
  },
  {
   "cell_type": "code",
   "execution_count": 45,
   "metadata": {
    "tags": [
     "challengify"
    ]
   },
   "outputs": [
    {
     "data": {
      "image/png": "[encoded data removed]",
      "text/plain": [
       "<Figure size 1000x500 with 3 Axes>"
      ]
     },
     "metadata": {},
     "output_type": "display_data"
    }
   ],
   "source": [
    "# YOUR CODE HERE\n",
    "plot_convolution(X_normalized[15], kernel_1, activation=True)"
   ]
  },
  {
   "cell_type": "markdown",
   "metadata": {},
   "source": [
    "👆 This kernel is actually highlighting the edges in a given direction. "
   ]
  },
  {
   "cell_type": "markdown",
   "metadata": {},
   "source": [
    "❓ **Play with different kernels...** ❓\n",
    "\n",
    "Try the following kernels to check the different edges they can detect."
   ]
  },
  {
   "cell_type": "code",
   "execution_count": 41,
   "metadata": {},
   "outputs": [],
   "source": [
    "kernel_2 = [\n",
    "    [-1, -1, -1],\n",
    "    [0, 0, 0],   \n",
    "    [1, 1, 1],\n",
    "]\n",
    "\n",
    "kernel_3 = [\n",
    "    [-1, 0, 1],\n",
    "    [-1, 0, 1],\n",
    "    [-1, 0, 1]\n",
    "]\n",
    "\n",
    "kernel_4 = [\n",
    "    [1, 0, -1],\n",
    "    [1, 0, -1],\n",
    "    [1, 0, -1]\n",
    "]"
   ]
  },
  {
   "cell_type": "code",
   "execution_count": 46,
   "metadata": {
    "tags": [
     "challengify"
    ]
   },
   "outputs": [
    {
     "data": {
      "image/png": "[encoded data removed]",
      "text/plain": [
       "<Figure size 1000x500 with 3 Axes>"
      ]
     },
     "metadata": {},
     "output_type": "display_data"
    }
   ],
   "source": [
    "# YOUR CODE HERE\n",
    "plot_convolution(X_normalized[15], kernel_2)"
   ]
  },
  {
   "cell_type": "code",
   "execution_count": 47,
   "metadata": {},
   "outputs": [
    {
     "data": {
      "image/png": "[encoded data removed]",
      "text/plain": [
       "<Figure size 1000x500 with 3 Axes>"
      ]
     },
     "metadata": {},
     "output_type": "display_data"
    }
   ],
   "source": [
    "plot_convolution(X_normalized[15], kernel_3)"
   ]
  },
  {
   "cell_type": "code",
   "execution_count": 48,
   "metadata": {},
   "outputs": [
    {
     "data": {
      "image/png": "[encoded data removed]",
      "text/plain": [
       "<Figure size 1000x500 with 3 Axes>"
      ]
     },
     "metadata": {},
     "output_type": "display_data"
    }
   ],
   "source": [
    "plot_convolution(X_normalized[15], kernel_4)"
   ]
  },
  {
   "cell_type": "markdown",
   "metadata": {},
   "source": [
    "❓ **What is the effect of the kernel size** ❓\n",
    "\n",
    "Try the _kernel_big_."
   ]
  },
  {
   "cell_type": "code",
   "execution_count": 49,
   "metadata": {},
   "outputs": [
    {
     "data": {
      "text/plain": [
       "array([[ 1.,  1.,  1.,  1.,  1.,  1.,  1.,  1.,  1.,  1.],\n",
       "       [ 1.,  1.,  1.,  1.,  1.,  1.,  1.,  1.,  1.,  1.],\n",
       "       [ 1.,  1.,  1.,  1.,  1.,  1.,  1.,  1.,  1.,  1.],\n",
       "       [ 0.,  0.,  0.,  0.,  0.,  0.,  0.,  0.,  0.,  0.],\n",
       "       [ 0.,  0.,  0.,  0.,  0.,  0.,  0.,  0.,  0.,  0.],\n",
       "       [ 0.,  0.,  0.,  0.,  0.,  0.,  0.,  0.,  0.,  0.],\n",
       "       [ 0.,  0.,  0.,  0.,  0.,  0.,  0.,  0.,  0.,  0.],\n",
       "       [-1., -1., -1., -1., -1., -1., -1., -1., -1., -1.],\n",
       "       [-1., -1., -1., -1., -1., -1., -1., -1., -1., -1.],\n",
       "       [-1., -1., -1., -1., -1., -1., -1., -1., -1., -1.]])"
      ]
     },
     "execution_count": 49,
     "metadata": {},
     "output_type": "execute_result"
    }
   ],
   "source": [
    "kernel_big = np.array([\n",
    "    np.ones((10,)),\n",
    "    np.ones((10,)),\n",
    "    np.ones((10,)),\n",
    "    np.zeros((10,)),\n",
    "    np.zeros((10,)),\n",
    "    np.zeros((10,)),\n",
    "    np.zeros((10,)),\n",
    "    np.ones((10,))*-1,\n",
    "    np.ones((10,))*-1,\n",
    "    np.ones((10,))*-1,\n",
    "])\n",
    "\n",
    "kernel_big"
   ]
  },
  {
   "cell_type": "code",
   "execution_count": 50,
   "metadata": {},
   "outputs": [
    {
     "data": {
      "image/png": "[encoded data removed]",
      "text/plain": [
       "<Figure size 1000x500 with 3 Axes>"
      ]
     },
     "metadata": {},
     "output_type": "display_data"
    }
   ],
   "source": [
    "# YOUR CODE HERE\n",
    "plot_convolution(X_normalized[15], kernel_big)"
   ]
  },
  {
   "cell_type": "markdown",
   "metadata": {},
   "source": [
    "❓ **Try another kernel**  ❓"
   ]
  },
  {
   "cell_type": "code",
   "execution_count": 51,
   "metadata": {},
   "outputs": [
    {
     "data": {
      "image/png": "[encoded data removed]",
      "text/plain": [
       "<Figure size 1000x500 with 3 Axes>"
      ]
     },
     "metadata": {},
     "output_type": "display_data"
    }
   ],
   "source": [
    "random_kernel = np.random.uniform(-10, 10, (5, 5))\n",
    "# YOUR CODE HERE\n",
    "plot_convolution(X_normalized[15], random_kernel)"
   ]
  },
  {
   "cell_type": "markdown",
   "metadata": {},
   "source": [
    "Now that you've got the idea of what a convolution operation does to an image, let's see how it goes with a \"real\" Convolutional Neural Network. ✅"
   ]
  },
  {
   "cell_type": "markdown",
   "metadata": {},
   "source": [
    "## (2) Training a CNN to detect triangles and circles"
   ]
  },
  {
   "cell_type": "markdown",
   "metadata": {},
   "source": [
    "### (2.1) Architecture"
   ]
  },
  {
   "cell_type": "markdown",
   "metadata": {},
   "source": [
    "\n",
    "❓ **Question: Designing a CNN** ❓\n",
    "\n",
    "Write a Convolutional Network that has \n",
    "- a Convolutional Layer with 16 filters with $ (4, 4) $ kernels.\n",
    "- a Convolutional Layer with 32 filters with $ (3, 3) $ kernels.\n",
    "- a Convolutional Layer with 64 filters with $ (3, 3) $ kernels.\n",
    "- a Convolutional Layer with 64 filters with $ (2, 2) $ kernels.\n",
    "\n",
    "with:\n",
    "- A Max-Pooling Layer (with a $ (2, 2) $ pool-size) after each convolution.\n",
    "- A Hidden Dense Layer with the size of your choice, be reasonable:\n",
    "    - after the flattening part \n",
    "    - but before the last layer\n",
    "\n",
    "\n",
    "Also, make sure to compile your model with the appropriate parameters"
   ]
  },
  {
   "cell_type": "code",
   "execution_count": 53,
   "metadata": {},
   "outputs": [
    {
     "data": {
      "text/plain": [
       "(200, 76, 78, 1)"
      ]
     },
     "execution_count": 53,
     "metadata": {},
     "output_type": "execute_result"
    }
   ],
   "source": [
    "X_normalized.shape"
   ]
  },
  {
   "cell_type": "code",
   "execution_count": 139,
   "metadata": {},
   "outputs": [],
   "source": [
    "from tensorflow.keras import layers, models\n",
    "\n",
    "def initialize_model():\n",
    "    \n",
    "    model = models.Sequential()\n",
    "    \n",
    "    model.add(layers.Conv2D(16, (4,4), activation='relu', padding='same', input_shape=(76,78,1)))\n",
    "    model.add(layers.MaxPool2D(pool_size=(2,2)))\n",
    "    \n",
    "    model.add(layers.Conv2D(32, (3,3), activation='relu'))\n",
    "    model.add(layers.MaxPool2D(pool_size=(2,2)))\n",
    "\n",
    "    model.add(layers.Conv2D(64, (3,3), activation='relu'))\n",
    "    model.add(layers.MaxPool2D(pool_size=(2,2)))\n",
    "    \n",
    "    model.add(layers.Conv2D(64, (2,2), activation='relu'))\n",
    "    model.add(layers.MaxPool2D(pool_size=(2,2)))   \n",
    "    \n",
    "    model.add(layers.Flatten())\n",
    "    model.add(layers.Dense(32, activation='relu'))\n",
    "    model.add(layers.Dense(1, activation='sigmoid'))\n",
    "    \n",
    "    model.compile(\n",
    "        loss='binary_crossentropy',\n",
    "        optimizer='adam',\n",
    "        metrics=['accuracy']\n",
    "    )\n",
    "    \n",
    "    return model"
   ]
  },
  {
   "cell_type": "code",
   "execution_count": 140,
   "metadata": {},
   "outputs": [
    {
     "name": "stdout",
     "output_type": "stream",
     "text": [
      "Model: \"sequential_26\"\n",
      "_________________________________________________________________\n",
      " Layer (type)                Output Shape              Param #   \n",
      "=================================================================\n",
      " conv2d_104 (Conv2D)         (None, 76, 78, 16)        272       \n",
      "                                                                 \n",
      " max_pooling2d_104 (MaxPooli  (None, 38, 39, 16)       0         \n",
      " ng2D)                                                           \n",
      "                                                                 \n",
      " conv2d_105 (Conv2D)         (None, 36, 37, 32)        4640      \n",
      "                                                                 \n",
      " max_pooling2d_105 (MaxPooli  (None, 18, 18, 32)       0         \n",
      " ng2D)                                                           \n",
      "                                                                 \n",
      " conv2d_106 (Conv2D)         (None, 16, 16, 64)        18496     \n",
      "                                                                 \n",
      " max_pooling2d_106 (MaxPooli  (None, 8, 8, 64)         0         \n",
      " ng2D)                                                           \n",
      "                                                                 \n",
      " conv2d_107 (Conv2D)         (None, 7, 7, 64)          16448     \n",
      "                                                                 \n",
      " max_pooling2d_107 (MaxPooli  (None, 3, 3, 64)         0         \n",
      " ng2D)                                                           \n",
      "                                                                 \n",
      " flatten_26 (Flatten)        (None, 576)               0         \n",
      "                                                                 \n",
      " dense_52 (Dense)            (None, 32)                18464     \n",
      "                                                                 \n",
      " dense_53 (Dense)            (None, 1)                 33        \n",
      "                                                                 \n",
      "=================================================================\n",
      "Total params: 58,353\n",
      "Trainable params: 58,353\n",
      "Non-trainable params: 0\n",
      "_________________________________________________________________\n"
     ]
    }
   ],
   "source": [
    "model.summary()"
   ]
  },
  {
   "cell_type": "markdown",
   "metadata": {},
   "source": [
    "### (2.2) Training"
   ]
  },
  {
   "cell_type": "markdown",
   "metadata": {},
   "source": [
    "❓ **Question: Training the CNN** ❓\n",
    "\n",
    "* Fit the model. You should achieve a accuracy of *at least* 90%. \n",
    "\n",
    "    * When you reach such a high score, it may sound suspicious and you would probably ask yourself whether the model is overfitting or not... but let's ignore it for this challenge 😏"
   ]
  },
  {
   "cell_type": "code",
   "execution_count": 141,
   "metadata": {},
   "outputs": [],
   "source": [
    "from sklearn.model_selection import train_test_split\n",
    "from tensorflow.keras.callbacks import EarlyStopping"
   ]
  },
  {
   "cell_type": "code",
   "execution_count": 154,
   "metadata": {
    "tags": [
     "challengify"
    ]
   },
   "outputs": [
    {
     "name": "stdout",
     "output_type": "stream",
     "text": [
      "Epoch 1/500\n",
      "7/7 [==============================] - 1s 32ms/step - loss: 0.6927 - accuracy: 0.5612 - val_loss: 0.7008 - val_accuracy: 0.3571\n",
      "Epoch 2/500\n",
      "7/7 [==============================] - 0s 19ms/step - loss: 0.6896 - accuracy: 0.5612 - val_loss: 0.7095 - val_accuracy: 0.3571\n",
      "Epoch 3/500\n",
      "7/7 [==============================] - 0s 17ms/step - loss: 0.6880 - accuracy: 0.5612 - val_loss: 0.7286 - val_accuracy: 0.3571\n",
      "Epoch 4/500\n",
      "7/7 [==============================] - 0s 18ms/step - loss: 0.6916 - accuracy: 0.5612 - val_loss: 0.7531 - val_accuracy: 0.3571\n",
      "Epoch 5/500\n",
      "7/7 [==============================] - 0s 20ms/step - loss: 0.6873 - accuracy: 0.5612 - val_loss: 0.7229 - val_accuracy: 0.3571\n",
      "Epoch 6/500\n",
      "7/7 [==============================] - 0s 17ms/step - loss: 0.6863 - accuracy: 0.5612 - val_loss: 0.7248 - val_accuracy: 0.3571\n",
      "Epoch 7/500\n",
      "7/7 [==============================] - 0s 17ms/step - loss: 0.6865 - accuracy: 0.5612 - val_loss: 0.7211 - val_accuracy: 0.3571\n",
      "Epoch 8/500\n",
      "7/7 [==============================] - 0s 17ms/step - loss: 0.6864 - accuracy: 0.5612 - val_loss: 0.7167 - val_accuracy: 0.3571\n",
      "Epoch 9/500\n",
      "7/7 [==============================] - 0s 16ms/step - loss: 0.6871 - accuracy: 0.5612 - val_loss: 0.7159 - val_accuracy: 0.3571\n",
      "Epoch 10/500\n",
      "7/7 [==============================] - 0s 16ms/step - loss: 0.6868 - accuracy: 0.5612 - val_loss: 0.7235 - val_accuracy: 0.3571\n",
      "Epoch 11/500\n",
      "7/7 [==============================] - 0s 17ms/step - loss: 0.6861 - accuracy: 0.5612 - val_loss: 0.7184 - val_accuracy: 0.3571\n",
      "Epoch 12/500\n",
      "7/7 [==============================] - 0s 16ms/step - loss: 0.6870 - accuracy: 0.5612 - val_loss: 0.7130 - val_accuracy: 0.3571\n",
      "Epoch 13/500\n",
      "7/7 [==============================] - 0s 17ms/step - loss: 0.6869 - accuracy: 0.5612 - val_loss: 0.7170 - val_accuracy: 0.3571\n",
      "Epoch 14/500\n",
      "7/7 [==============================] - 0s 16ms/step - loss: 0.6865 - accuracy: 0.5612 - val_loss: 0.7222 - val_accuracy: 0.3571\n",
      "Epoch 15/500\n",
      "7/7 [==============================] - 0s 16ms/step - loss: 0.6861 - accuracy: 0.5612 - val_loss: 0.7243 - val_accuracy: 0.3571\n",
      "Epoch 16/500\n",
      "7/7 [==============================] - 0s 18ms/step - loss: 0.6859 - accuracy: 0.5612 - val_loss: 0.7307 - val_accuracy: 0.3571\n",
      "Epoch 17/500\n",
      "7/7 [==============================] - 0s 16ms/step - loss: 0.6864 - accuracy: 0.5612 - val_loss: 0.7472 - val_accuracy: 0.3571\n",
      "Epoch 18/500\n",
      "7/7 [==============================] - 0s 17ms/step - loss: 0.6853 - accuracy: 0.5612 - val_loss: 0.7454 - val_accuracy: 0.3571\n",
      "Epoch 19/500\n",
      "7/7 [==============================] - 0s 23ms/step - loss: 0.6858 - accuracy: 0.5612 - val_loss: 0.7308 - val_accuracy: 0.3571\n",
      "Epoch 20/500\n",
      "7/7 [==============================] - 0s 20ms/step - loss: 0.6866 - accuracy: 0.5612 - val_loss: 0.7151 - val_accuracy: 0.3571\n",
      "Epoch 21/500\n",
      "7/7 [==============================] - 0s 17ms/step - loss: 0.6868 - accuracy: 0.5612 - val_loss: 0.7088 - val_accuracy: 0.3571\n",
      "Epoch 22/500\n",
      "7/7 [==============================] - 0s 18ms/step - loss: 0.6876 - accuracy: 0.5612 - val_loss: 0.7087 - val_accuracy: 0.3571\n",
      "Epoch 23/500\n",
      "7/7 [==============================] - 0s 18ms/step - loss: 0.6867 - accuracy: 0.5612 - val_loss: 0.7110 - val_accuracy: 0.3571\n",
      "Epoch 24/500\n",
      "7/7 [==============================] - 0s 18ms/step - loss: 0.6856 - accuracy: 0.5612 - val_loss: 0.7147 - val_accuracy: 0.3571\n",
      "Epoch 25/500\n",
      "7/7 [==============================] - 0s 18ms/step - loss: 0.6849 - accuracy: 0.5612 - val_loss: 0.7084 - val_accuracy: 0.3571\n",
      "Epoch 26/500\n",
      "7/7 [==============================] - 0s 18ms/step - loss: 0.6862 - accuracy: 0.5612 - val_loss: 0.7099 - val_accuracy: 0.3571\n",
      "Epoch 27/500\n",
      "7/7 [==============================] - 0s 18ms/step - loss: 0.6818 - accuracy: 0.5612 - val_loss: 0.7302 - val_accuracy: 0.3571\n",
      "Epoch 28/500\n",
      "7/7 [==============================] - 0s 19ms/step - loss: 0.6808 - accuracy: 0.5612 - val_loss: 0.7126 - val_accuracy: 0.3571\n",
      "Epoch 29/500\n",
      "7/7 [==============================] - 0s 17ms/step - loss: 0.6784 - accuracy: 0.5612 - val_loss: 0.7096 - val_accuracy: 0.3571\n",
      "Epoch 30/500\n",
      "7/7 [==============================] - 0s 19ms/step - loss: 0.6811 - accuracy: 0.5612 - val_loss: 0.7028 - val_accuracy: 0.3571\n",
      "Epoch 31/500\n",
      "7/7 [==============================] - 0s 19ms/step - loss: 0.6715 - accuracy: 0.5612 - val_loss: 0.7192 - val_accuracy: 0.3571\n",
      "Epoch 32/500\n",
      "7/7 [==============================] - 0s 18ms/step - loss: 0.6716 - accuracy: 0.5612 - val_loss: 0.7054 - val_accuracy: 0.3571\n",
      "Epoch 33/500\n",
      "7/7 [==============================] - 0s 18ms/step - loss: 0.6714 - accuracy: 0.5612 - val_loss: 0.7131 - val_accuracy: 0.3571\n",
      "Epoch 34/500\n",
      "7/7 [==============================] - 0s 19ms/step - loss: 0.6440 - accuracy: 0.5612 - val_loss: 0.7019 - val_accuracy: 0.3571\n",
      "Epoch 35/500\n",
      "7/7 [==============================] - 0s 19ms/step - loss: 0.6098 - accuracy: 0.5612 - val_loss: 0.6915 - val_accuracy: 0.3571\n",
      "Epoch 36/500\n",
      "7/7 [==============================] - 0s 21ms/step - loss: 0.5739 - accuracy: 0.5714 - val_loss: 0.6522 - val_accuracy: 0.4286\n",
      "Epoch 37/500\n",
      "7/7 [==============================] - 0s 19ms/step - loss: 0.5285 - accuracy: 0.6224 - val_loss: 0.8380 - val_accuracy: 0.3810\n",
      "Epoch 38/500\n",
      "7/7 [==============================] - 0s 18ms/step - loss: 0.5479 - accuracy: 0.7449 - val_loss: 0.6274 - val_accuracy: 0.8810\n",
      "Epoch 39/500\n",
      "7/7 [==============================] - 0s 18ms/step - loss: 0.5071 - accuracy: 0.8265 - val_loss: 0.7863 - val_accuracy: 0.4524\n",
      "Epoch 40/500\n",
      "7/7 [==============================] - 0s 19ms/step - loss: 0.4745 - accuracy: 0.7959 - val_loss: 0.5161 - val_accuracy: 0.9048\n",
      "Epoch 41/500\n",
      "7/7 [==============================] - 0s 17ms/step - loss: 0.4289 - accuracy: 0.8571 - val_loss: 0.4412 - val_accuracy: 0.8095\n",
      "Epoch 42/500\n",
      "7/7 [==============================] - 0s 17ms/step - loss: 0.4404 - accuracy: 0.8265 - val_loss: 0.4137 - val_accuracy: 0.8333\n",
      "Epoch 43/500\n",
      "7/7 [==============================] - 0s 18ms/step - loss: 0.3558 - accuracy: 0.8878 - val_loss: 0.3306 - val_accuracy: 0.9048\n",
      "Epoch 44/500\n",
      "7/7 [==============================] - 0s 17ms/step - loss: 0.3311 - accuracy: 0.8571 - val_loss: 0.4401 - val_accuracy: 0.7381\n",
      "Epoch 45/500\n",
      "7/7 [==============================] - 0s 17ms/step - loss: 0.3042 - accuracy: 0.8878 - val_loss: 0.2287 - val_accuracy: 0.9286\n",
      "Epoch 46/500\n",
      "7/7 [==============================] - 0s 17ms/step - loss: 0.2658 - accuracy: 0.8878 - val_loss: 0.2146 - val_accuracy: 0.9286\n",
      "Epoch 47/500\n",
      "7/7 [==============================] - 0s 18ms/step - loss: 0.2272 - accuracy: 0.8980 - val_loss: 0.3449 - val_accuracy: 0.7857\n",
      "Epoch 48/500\n",
      "7/7 [==============================] - 0s 18ms/step - loss: 0.2803 - accuracy: 0.9184 - val_loss: 0.2500 - val_accuracy: 0.9048\n",
      "Epoch 49/500\n",
      "7/7 [==============================] - 0s 18ms/step - loss: 0.2233 - accuracy: 0.9082 - val_loss: 0.2659 - val_accuracy: 0.8571\n",
      "Epoch 50/500\n",
      "7/7 [==============================] - 0s 17ms/step - loss: 0.2520 - accuracy: 0.8980 - val_loss: 0.6420 - val_accuracy: 0.7857\n",
      "Epoch 51/500\n",
      "7/7 [==============================] - 0s 19ms/step - loss: 0.7346 - accuracy: 0.6735 - val_loss: 0.4471 - val_accuracy: 0.7143\n",
      "Epoch 52/500\n",
      "7/7 [==============================] - 0s 16ms/step - loss: 0.3413 - accuracy: 0.8469 - val_loss: 0.2753 - val_accuracy: 0.9048\n",
      "Epoch 53/500\n",
      "7/7 [==============================] - 0s 20ms/step - loss: 0.2643 - accuracy: 0.8878 - val_loss: 0.2784 - val_accuracy: 0.9048\n",
      "Epoch 54/500\n",
      "7/7 [==============================] - 0s 17ms/step - loss: 0.2733 - accuracy: 0.8776 - val_loss: 0.2397 - val_accuracy: 0.9048\n",
      "Epoch 55/500\n",
      "7/7 [==============================] - 0s 16ms/step - loss: 0.2178 - accuracy: 0.9286 - val_loss: 0.2259 - val_accuracy: 0.9286\n",
      "Epoch 56/500\n",
      "7/7 [==============================] - 0s 19ms/step - loss: 0.2087 - accuracy: 0.9388 - val_loss: 0.2641 - val_accuracy: 0.9048\n",
      "Epoch 57/500\n",
      "7/7 [==============================] - 0s 18ms/step - loss: 0.3647 - accuracy: 0.8469 - val_loss: 0.2345 - val_accuracy: 0.9286\n",
      "Epoch 58/500\n",
      "7/7 [==============================] - 0s 17ms/step - loss: 0.2699 - accuracy: 0.8980 - val_loss: 0.3050 - val_accuracy: 0.8810\n",
      "Epoch 59/500\n",
      "7/7 [==============================] - 0s 18ms/step - loss: 0.2892 - accuracy: 0.8980 - val_loss: 0.2611 - val_accuracy: 0.9048\n",
      "Epoch 60/500\n",
      "7/7 [==============================] - 0s 19ms/step - loss: 0.2202 - accuracy: 0.9082 - val_loss: 0.2429 - val_accuracy: 0.9286\n",
      "Epoch 61/500\n",
      "7/7 [==============================] - 0s 17ms/step - loss: 0.2094 - accuracy: 0.9286 - val_loss: 0.2419 - val_accuracy: 0.9286\n",
      "Epoch 62/500\n",
      "7/7 [==============================] - 0s 18ms/step - loss: 0.2083 - accuracy: 0.9082 - val_loss: 0.2351 - val_accuracy: 0.9286\n",
      "Epoch 63/500\n",
      "7/7 [==============================] - 0s 18ms/step - loss: 0.2439 - accuracy: 0.8980 - val_loss: 0.2591 - val_accuracy: 0.9048\n",
      "Epoch 64/500\n",
      "7/7 [==============================] - 0s 17ms/step - loss: 0.2183 - accuracy: 0.9082 - val_loss: 0.3062 - val_accuracy: 0.8571\n",
      "Epoch 65/500\n",
      "7/7 [==============================] - 0s 19ms/step - loss: 0.2274 - accuracy: 0.8980 - val_loss: 0.2506 - val_accuracy: 0.9286\n",
      "Epoch 66/500\n",
      "7/7 [==============================] - 0s 19ms/step - loss: 0.1865 - accuracy: 0.9388 - val_loss: 0.2417 - val_accuracy: 0.9286\n",
      "Epoch 67/500\n",
      "7/7 [==============================] - 0s 18ms/step - loss: 0.1868 - accuracy: 0.9184 - val_loss: 0.2311 - val_accuracy: 0.9286\n",
      "Epoch 68/500\n",
      "7/7 [==============================] - 0s 21ms/step - loss: 0.1828 - accuracy: 0.9184 - val_loss: 0.2269 - val_accuracy: 0.9286\n",
      "Epoch 69/500\n",
      "7/7 [==============================] - 0s 19ms/step - loss: 0.1689 - accuracy: 0.9490 - val_loss: 0.2277 - val_accuracy: 0.9286\n",
      "Epoch 70/500\n",
      "7/7 [==============================] - 0s 18ms/step - loss: 0.1760 - accuracy: 0.9388 - val_loss: 0.2336 - val_accuracy: 0.9286\n",
      "Epoch 71/500\n",
      "7/7 [==============================] - 0s 17ms/step - loss: 0.1767 - accuracy: 0.9286 - val_loss: 0.2282 - val_accuracy: 0.9286\n",
      "Epoch 72/500\n",
      "7/7 [==============================] - 0s 16ms/step - loss: 0.1727 - accuracy: 0.9388 - val_loss: 0.2307 - val_accuracy: 0.9286\n",
      "Epoch 73/500\n",
      "7/7 [==============================] - 0s 20ms/step - loss: 0.1746 - accuracy: 0.9388 - val_loss: 0.2442 - val_accuracy: 0.9286\n",
      "Epoch 74/500\n",
      "7/7 [==============================] - 0s 21ms/step - loss: 0.1834 - accuracy: 0.9286 - val_loss: 0.2330 - val_accuracy: 0.9286\n",
      "Epoch 75/500\n",
      "7/7 [==============================] - 0s 18ms/step - loss: 0.1621 - accuracy: 0.9388 - val_loss: 0.2299 - val_accuracy: 0.9286\n",
      "Epoch 76/500\n",
      "7/7 [==============================] - 0s 18ms/step - loss: 0.1535 - accuracy: 0.9286 - val_loss: 0.2345 - val_accuracy: 0.9286\n",
      "Epoch 77/500\n",
      "7/7 [==============================] - 0s 18ms/step - loss: 0.1536 - accuracy: 0.9286 - val_loss: 0.2486 - val_accuracy: 0.9286\n",
      "Epoch 78/500\n",
      "7/7 [==============================] - 0s 17ms/step - loss: 0.1744 - accuracy: 0.9286 - val_loss: 0.2401 - val_accuracy: 0.9286\n",
      "Epoch 79/500\n",
      "7/7 [==============================] - 0s 17ms/step - loss: 0.1545 - accuracy: 0.9490 - val_loss: 0.2386 - val_accuracy: 0.9286\n",
      "Epoch 80/500\n",
      "7/7 [==============================] - 0s 18ms/step - loss: 0.1826 - accuracy: 0.9184 - val_loss: 0.2381 - val_accuracy: 0.9286\n",
      "Epoch 81/500\n",
      "7/7 [==============================] - 0s 17ms/step - loss: 0.1649 - accuracy: 0.9490 - val_loss: 0.2525 - val_accuracy: 0.9286\n",
      "Epoch 82/500\n",
      "7/7 [==============================] - 0s 17ms/step - loss: 0.2907 - accuracy: 0.8776 - val_loss: 0.2400 - val_accuracy: 0.9286\n",
      "Epoch 83/500\n",
      "7/7 [==============================] - 0s 17ms/step - loss: 0.5248 - accuracy: 0.8367 - val_loss: 0.2820 - val_accuracy: 0.8810\n",
      "Epoch 84/500\n",
      "7/7 [==============================] - 0s 17ms/step - loss: 0.2224 - accuracy: 0.9082 - val_loss: 0.2954 - val_accuracy: 0.8810\n",
      "Epoch 85/500\n",
      "7/7 [==============================] - 0s 20ms/step - loss: 0.1931 - accuracy: 0.9184 - val_loss: 0.2665 - val_accuracy: 0.9524\n",
      "Epoch 86/500\n",
      "7/7 [==============================] - 0s 17ms/step - loss: 0.2044 - accuracy: 0.9388 - val_loss: 0.2671 - val_accuracy: 0.9524\n",
      "Epoch 87/500\n",
      "7/7 [==============================] - 0s 18ms/step - loss: 0.1611 - accuracy: 0.9286 - val_loss: 0.2580 - val_accuracy: 0.9048\n",
      "Epoch 88/500\n",
      "7/7 [==============================] - 0s 17ms/step - loss: 0.1656 - accuracy: 0.9286 - val_loss: 0.2503 - val_accuracy: 0.9048\n",
      "Epoch 89/500\n",
      "7/7 [==============================] - 0s 17ms/step - loss: 0.1474 - accuracy: 0.9286 - val_loss: 0.2483 - val_accuracy: 0.9286\n",
      "Epoch 90/500\n",
      "7/7 [==============================] - 0s 17ms/step - loss: 0.1521 - accuracy: 0.9388 - val_loss: 0.2488 - val_accuracy: 0.9524\n",
      "Epoch 91/500\n",
      "7/7 [==============================] - 0s 17ms/step - loss: 0.1444 - accuracy: 0.9490 - val_loss: 0.2549 - val_accuracy: 0.9048\n",
      "Epoch 92/500\n",
      "7/7 [==============================] - 0s 17ms/step - loss: 0.1392 - accuracy: 0.9388 - val_loss: 0.2489 - val_accuracy: 0.9048\n",
      "Epoch 93/500\n",
      "7/7 [==============================] - 0s 16ms/step - loss: 0.1327 - accuracy: 0.9388 - val_loss: 0.2500 - val_accuracy: 0.9524\n",
      "Epoch 94/500\n",
      "7/7 [==============================] - 0s 16ms/step - loss: 0.1538 - accuracy: 0.9490 - val_loss: 0.2526 - val_accuracy: 0.9048\n",
      "Epoch 95/500\n",
      "7/7 [==============================] - 0s 18ms/step - loss: 0.1576 - accuracy: 0.9286 - val_loss: 0.2611 - val_accuracy: 0.9048\n",
      "Epoch 96/500\n",
      "7/7 [==============================] - 0s 17ms/step - loss: 0.1386 - accuracy: 0.9490 - val_loss: 0.2506 - val_accuracy: 0.9286\n"
     ]
    }
   ],
   "source": [
    "# YOUR CODE HERE\n",
    "X_train, X_test, y_train, y_test = train_test_split(X_normalized, y, test_size=0.3)\n",
    "\n",
    "es = EarlyStopping(patience=50, restore_best_weights=True)\n",
    "\n",
    "model = initialize_model()\n",
    "history = model.fit(X_train, y_train, batch_size=16, epochs=500, validation_split=0.3, callbacks=[es], verbose=1)\n"
   ]
  },
  {
   "cell_type": "code",
   "execution_count": 155,
   "metadata": {},
   "outputs": [
    {
     "name": "stdout",
     "output_type": "stream",
     "text": [
      "2/2 [==============================] - 0s 7ms/step - loss: 0.3284 - accuracy: 0.8833\n"
     ]
    },
    {
     "data": {
      "text/plain": [
       "[0.3284268081188202, 0.8833333253860474]"
      ]
     },
     "execution_count": 155,
     "metadata": {},
     "output_type": "execute_result"
    }
   ],
   "source": [
    "model.evaluate(X_test, y_test)"
   ]
  },
  {
   "cell_type": "markdown",
   "metadata": {},
   "source": [
    "🎁 We coded the `plot_loss_accuracy` for you.\n",
    "\n",
    "❓ **Question: does the CNN converge** ❓\n",
    "\n",
    "_Also, do you see any sign of overfitting?_"
   ]
  },
  {
   "cell_type": "code",
   "execution_count": 153,
   "metadata": {},
   "outputs": [],
   "source": [
    "def plot_loss_accuracy(history, title=None):\n",
    "    fig, ax = plt.subplots(1,2, figsize=(20,7))\n",
    "    \n",
    "    # --- LOSS --- \n",
    "    \n",
    "    ax[0].plot(history.history['loss'])\n",
    "    ax[0].plot(history.history['val_loss'])\n",
    "    ax[0].set_title('Model loss')\n",
    "    ax[0].set_ylabel('Loss')\n",
    "    ax[0].set_xlabel('Epoch')\n",
    "    ax[0].set_ylim((0,3))\n",
    "    ax[0].legend(['Train', 'Test'], loc='best')\n",
    "    ax[0].grid(axis=\"x\",linewidth=0.5)\n",
    "    ax[0].grid(axis=\"y\",linewidth=0.5)\n",
    "    \n",
    "    # --- ACCURACY\n",
    "    \n",
    "    ax[1].plot(history.history['accuracy'])\n",
    "    ax[1].plot(history.history['val_accuracy'])\n",
    "    ax[1].set_title('Model Accuracy')\n",
    "    ax[1].set_ylabel('Accuracy')\n",
    "    ax[1].set_xlabel('Epoch')\n",
    "    ax[1].legend(['Train', 'Test'], loc='best')\n",
    "    ax[1].set_ylim((0,1))\n",
    "    ax[1].grid(axis=\"x\",linewidth=0.5)\n",
    "    ax[1].grid(axis=\"y\",linewidth=0.5)\n",
    "    \n",
    "    if title:\n",
    "        fig.suptitle(title)"
   ]
  },
  {
   "cell_type": "code",
   "execution_count": 156,
   "metadata": {
    "tags": [
     "challengify"
    ]
   },
   "outputs": [
    {
     "data": {
      "image/png": "[encoded data removed]",
      "text/plain": [
       "<Figure size 2000x700 with 2 Axes>"
      ]
     },
     "metadata": {},
     "output_type": "display_data"
    }
   ],
   "source": [
    "# YOUR CODE HERE\n",
    "plot_loss_accuracy(history)"
   ]
  },
  {
   "cell_type": "markdown",
   "metadata": {},
   "source": [
    "👏 Congratulations! After running a CNN to classify handwritten digits, you were able to design another to classify images either as triangles or circles!\n",
    "\n",
    "😏 However, you have probably guessed that Computer Vision is obviously more complex than that...\n",
    "\n",
    "📆 In `Challenge 3 - CIFAR10`, you will try to classify images between 10 categories.\n",
    "\n",
    "📚 The last section of this notebook will help you build a deeper understanding of CNN. **Read `(2.3) Deeper understanding of CNN` very carefully** before moving on the next challenge!"
   ]
  },
  {
   "cell_type": "markdown",
   "metadata": {},
   "source": [
    "### 🎁 📚 (2.3) Deeper understanding of CNNs"
   ]
  },
  {
   "cell_type": "markdown",
   "metadata": {},
   "source": [
    "👩🏻‍🏫 For any Sequential Neural Network (Dense or Convolutional), you can:\n",
    "- print the **`.summary()`** to display the layers and the number of weights/parameters involved\n",
    "- access the different **`.layers`** of your model"
   ]
  },
  {
   "cell_type": "code",
   "execution_count": 157,
   "metadata": {},
   "outputs": [
    {
     "name": "stdout",
     "output_type": "stream",
     "text": [
      "Model: \"sequential_31\"\n",
      "_________________________________________________________________\n",
      " Layer (type)                Output Shape              Param #   \n",
      "=================================================================\n",
      " conv2d_124 (Conv2D)         (None, 76, 78, 16)        272       \n",
      "                                                                 \n",
      " max_pooling2d_124 (MaxPooli  (None, 38, 39, 16)       0         \n",
      " ng2D)                                                           \n",
      "                                                                 \n",
      " conv2d_125 (Conv2D)         (None, 36, 37, 32)        4640      \n",
      "                                                                 \n",
      " max_pooling2d_125 (MaxPooli  (None, 18, 18, 32)       0         \n",
      " ng2D)                                                           \n",
      "                                                                 \n",
      " conv2d_126 (Conv2D)         (None, 16, 16, 64)        18496     \n",
      "                                                                 \n",
      " max_pooling2d_126 (MaxPooli  (None, 8, 8, 64)         0         \n",
      " ng2D)                                                           \n",
      "                                                                 \n",
      " conv2d_127 (Conv2D)         (None, 7, 7, 64)          16448     \n",
      "                                                                 \n",
      " max_pooling2d_127 (MaxPooli  (None, 3, 3, 64)         0         \n",
      " ng2D)                                                           \n",
      "                                                                 \n",
      " flatten_31 (Flatten)        (None, 576)               0         \n",
      "                                                                 \n",
      " dense_62 (Dense)            (None, 32)                18464     \n",
      "                                                                 \n",
      " dense_63 (Dense)            (None, 1)                 33        \n",
      "                                                                 \n",
      "=================================================================\n",
      "Total params: 58,353\n",
      "Trainable params: 58,353\n",
      "Non-trainable params: 0\n",
      "_________________________________________________________________\n"
     ]
    }
   ],
   "source": [
    "model.summary()"
   ]
  },
  {
   "cell_type": "code",
   "execution_count": 165,
   "metadata": {},
   "outputs": [
    {
     "data": {
      "text/plain": [
       "[<keras.layers.convolutional.conv2d.Conv2D at 0x2f79bf850>,\n",
       " <keras.layers.pooling.max_pooling2d.MaxPooling2D at 0x2f6e3fdf0>,\n",
       " <keras.layers.convolutional.conv2d.Conv2D at 0x2f7a30c40>,\n",
       " <keras.layers.pooling.max_pooling2d.MaxPooling2D at 0x2f697cc10>,\n",
       " <keras.layers.convolutional.conv2d.Conv2D at 0x2f5f7fb50>,\n",
       " <keras.layers.pooling.max_pooling2d.MaxPooling2D at 0x2f6960a60>,\n",
       " <keras.layers.convolutional.conv2d.Conv2D at 0x2f7a16c50>,\n",
       " <keras.layers.pooling.max_pooling2d.MaxPooling2D at 0x2f6963b20>,\n",
       " <keras.layers.reshaping.flatten.Flatten at 0x2f6963550>,\n",
       " <keras.layers.core.dense.Dense at 0x2f584a0e0>,\n",
       " <keras.layers.core.dense.Dense at 0x2f79be7a0>]"
      ]
     },
     "execution_count": 165,
     "metadata": {},
     "output_type": "execute_result"
    }
   ],
   "source": [
    "model.layers"
   ]
  },
  {
   "cell_type": "markdown",
   "metadata": {},
   "source": [
    "🕵️‍♀️ With the following table, you will have a better overview of the different weights, kernels and filters involved in the CNN you've built earlier:\n",
    "\n",
    "| layer_number | convolution_layer | kernel_number | channel_number |\n",
    "|--------------|-------------------|---------------|----------------|\n",
    "| 0            | conv2D no 1       | 16            | 1              |\n",
    "| 2            | conv2D no 2       | 32            | 16             |\n",
    "| 4            | conv2D no 3       | 64            | 32             |\n",
    "| 6            | conv2D no 4       | 64            | 64             |"
   ]
  },
  {
   "cell_type": "markdown",
   "metadata": {},
   "source": [
    "#### (2.3.1) Kernels"
   ]
  },
  {
   "cell_type": "markdown",
   "metadata": {},
   "source": [
    "🧑🏻‍🏫 It is possible to **retrieve the values of all the kernels for each layer after training a CNN**. \n",
    "\n",
    "👉 Let's focus first on the different parameters (**`.weights`**) of the first convolutional layer."
   ]
  },
  {
   "cell_type": "code",
   "execution_count": 159,
   "metadata": {},
   "outputs": [
    {
     "data": {
      "text/plain": [
       "<keras.layers.convolutional.conv2d.Conv2D at 0x2f79bf850>"
      ]
     },
     "execution_count": 159,
     "metadata": {},
     "output_type": "execute_result"
    }
   ],
   "source": [
    "# Accessing the first convolutional layer of the CNN\n",
    "first_convolutional_layer = model.layers[0]\n",
    "first_convolutional_layer"
   ]
  },
  {
   "cell_type": "code",
   "execution_count": 172,
   "metadata": {},
   "outputs": [
    {
     "data": {
      "text/plain": [
       "[<tf.Variable 'conv2d_124/kernel:0' shape=(4, 4, 1, 16) dtype=float32, numpy=\n",
       " array([[[[-5.10821790e-02,  4.35542762e-02,  1.60325579e-02,\n",
       "            9.25698355e-02, -1.47093832e-01, -4.50325906e-02,\n",
       "           -9.26316828e-02,  7.38785416e-02,  3.07397634e-01,\n",
       "           -1.30978554e-01, -3.82113904e-02, -1.00054830e-01,\n",
       "            3.00309211e-01, -9.99552310e-02,  7.07693920e-02,\n",
       "           -1.64603386e-02]],\n",
       " \n",
       "         [[-8.36034790e-02,  5.86898550e-02, -6.96893483e-02,\n",
       "           -4.30267006e-02, -2.03180969e-01,  4.33939323e-02,\n",
       "            1.24568880e-01,  1.52063996e-01,  9.67956334e-02,\n",
       "           -1.33797899e-01, -7.55015761e-02,  4.54202108e-03,\n",
       "            3.19305062e-01, -1.45110860e-01,  4.91064824e-02,\n",
       "           -3.16420905e-02]],\n",
       " \n",
       "         [[-2.22970285e-02,  6.13727933e-03, -4.52374965e-02,\n",
       "            8.13787282e-02, -1.01904832e-01,  7.18283057e-02,\n",
       "           -1.16258539e-01,  5.28826900e-02,  2.53388047e-01,\n",
       "           -4.67033014e-02, -3.04433227e-01,  1.14860944e-01,\n",
       "            2.34378278e-01, -4.91607040e-02,  5.98656572e-02,\n",
       "            7.34953508e-02]],\n",
       " \n",
       "         [[-1.78298261e-02,  2.49649994e-02,  1.29362494e-01,\n",
       "            2.36862153e-02, -3.45553845e-01, -1.24818213e-01,\n",
       "           -2.73237713e-02,  1.20357089e-02,  1.24639779e-01,\n",
       "            5.66365309e-02, -3.07097942e-01, -2.15615705e-02,\n",
       "            9.91017595e-02,  1.31693095e-01,  1.35165945e-01,\n",
       "           -4.66371700e-02]]],\n",
       " \n",
       " \n",
       "        [[[ 5.42183220e-03,  1.18185118e-01,  4.37610000e-02,\n",
       "           -3.70722227e-02, -3.51724505e-01,  4.35708724e-02,\n",
       "           -2.96064895e-02, -3.10135103e-04,  2.84061432e-01,\n",
       "            3.60379964e-02, -4.61646654e-02, -4.34171632e-02,\n",
       "            1.78940997e-01,  7.16455802e-02,  2.20082507e-01,\n",
       "           -7.71757066e-02]],\n",
       " \n",
       "         [[-3.58207375e-02, -1.04301043e-01, -5.34946322e-02,\n",
       "           -3.11551467e-02, -3.01522017e-01, -3.25687677e-02,\n",
       "            9.32373945e-03,  4.04644385e-02,  2.62925804e-01,\n",
       "            1.50466955e-03, -1.09891102e-01, -1.33861557e-01,\n",
       "            1.62386924e-01, -1.47411510e-01,  1.93205029e-01,\n",
       "           -5.58610447e-02]],\n",
       " \n",
       "         [[-1.75661482e-02,  6.29561692e-02,  1.20383106e-01,\n",
       "           -3.71569139e-03, -2.87681758e-01,  4.33229841e-03,\n",
       "            5.93851134e-02,  7.33319903e-03,  2.84575939e-01,\n",
       "            3.47524807e-02, -7.38305897e-02,  7.03268275e-02,\n",
       "            3.26591909e-01, -7.14355186e-02,  1.78188935e-01,\n",
       "            5.46772890e-02]],\n",
       " \n",
       "         [[-9.06734094e-02, -2.30214521e-02,  6.00826554e-02,\n",
       "           -1.11293815e-01, -3.12665761e-01,  1.50086395e-02,\n",
       "            2.19435133e-02,  8.39836076e-02,  7.58937448e-02,\n",
       "           -1.18395805e-01, -2.93441415e-01,  8.03868547e-02,\n",
       "            2.11472258e-01,  1.37874827e-01,  9.17030126e-02,\n",
       "            1.40372217e-01]]],\n",
       " \n",
       " \n",
       "        [[[-1.45781726e-01, -3.60546038e-02,  1.35781854e-01,\n",
       "           -1.44820377e-01, -2.92840838e-01,  1.45509973e-01,\n",
       "            1.99618712e-02, -1.24098152e-01,  2.09828332e-01,\n",
       "            4.68782103e-03, -2.27533966e-01, -1.23007134e-01,\n",
       "            3.45235318e-01, -1.95702128e-02,  2.08016515e-01,\n",
       "           -6.89966828e-02]],\n",
       " \n",
       "         [[-6.86765686e-02,  8.47444907e-02,  2.87193544e-02,\n",
       "            1.29989654e-01, -2.24689424e-01, -5.04869297e-02,\n",
       "            5.49165867e-02, -7.94563964e-02,  2.86490351e-01,\n",
       "            8.20148662e-02, -1.68095857e-01,  3.96000482e-02,\n",
       "            1.23053730e-01, -8.78237933e-03, -4.55257110e-02,\n",
       "           -1.30179793e-01]],\n",
       " \n",
       "         [[-2.85398364e-02,  1.34063274e-01, -5.56615852e-02,\n",
       "            1.44915566e-01, -1.01866193e-01, -1.09007634e-01,\n",
       "            5.15211858e-02,  8.04305226e-02,  2.79774696e-01,\n",
       "           -3.32216211e-02, -5.42106926e-02, -9.61161107e-02,\n",
       "            3.04697990e-01,  1.29996240e-01, -2.00582072e-02,\n",
       "            1.04880087e-01]],\n",
       " \n",
       "         [[ 1.19826771e-01,  1.39501482e-01,  3.12036299e-03,\n",
       "            4.31998447e-02, -2.10444450e-01, -8.93534496e-02,\n",
       "            9.40981228e-03, -1.05439365e-01,  1.34822056e-01,\n",
       "           -1.49070740e-01, -2.36672401e-01,  1.04164124e-01,\n",
       "            1.21470660e-01,  6.67025298e-02,  1.66614160e-01,\n",
       "            8.28659311e-02]]],\n",
       " \n",
       " \n",
       "        [[[-8.35964456e-02, -1.16708852e-01, -9.26816184e-03,\n",
       "           -1.16972081e-01, -1.88435584e-01,  1.39071196e-01,\n",
       "           -1.41321763e-01, -6.66764081e-02,  3.67129833e-01,\n",
       "           -1.44537672e-01, -2.04616725e-01, -2.31600367e-02,\n",
       "            1.45225525e-01,  1.26302049e-01,  1.82178900e-01,\n",
       "           -5.41542610e-03]],\n",
       " \n",
       "         [[-1.21743083e-01,  2.68942770e-02,  1.02692664e-01,\n",
       "           -1.50123075e-01, -3.53399634e-01, -7.88974464e-02,\n",
       "           -1.03830338e-01,  1.48965940e-01,  1.45574093e-01,\n",
       "            4.78916839e-02, -3.06854814e-01,  9.71143395e-02,\n",
       "            3.22765648e-01,  1.02781197e-02,  1.57285780e-01,\n",
       "           -1.10870957e-01]],\n",
       " \n",
       "         [[ 1.99153684e-02, -1.04856841e-01, -1.05835952e-01,\n",
       "            1.90031547e-02, -1.17029652e-01, -2.67920680e-02,\n",
       "           -1.37284696e-01,  1.45426288e-01,  2.21615195e-01,\n",
       "            5.86091429e-02, -1.25430971e-01,  1.31363556e-01,\n",
       "            3.70844841e-01,  1.80999972e-02,  5.31854741e-02,\n",
       "            1.09726727e-01]],\n",
       " \n",
       "         [[-5.31684421e-02, -2.52169296e-02,  9.86139700e-02,\n",
       "            4.21362072e-02, -2.60178775e-01, -2.55354308e-02,\n",
       "            1.25997201e-01,  1.03457198e-01,  3.46678466e-01,\n",
       "           -1.32039964e-01, -2.39076406e-01,  9.47160050e-02,\n",
       "            2.77706414e-01, -3.37170921e-02,  2.22196460e-01,\n",
       "           -1.00576103e-01]]]], dtype=float32)>,\n",
       " <tf.Variable 'conv2d_124/bias:0' shape=(16,) dtype=float32, numpy=\n",
       " array([-0.00599273, -0.00228491, -0.0082021 , -0.00748806,  0.01383355,\n",
       "        -0.00167482, -0.00600103, -0.00872957,  0.00071377, -0.00422413,\n",
       "         0.00914924, -0.0037874 ,  0.00132962, -0.0055086 ,  0.00137955,\n",
       "        -0.00588538], dtype=float32)>]"
      ]
     },
     "execution_count": 172,
     "metadata": {},
     "output_type": "execute_result"
    }
   ],
   "source": [
    "first_convolutional_layer.weights"
   ]
  },
  {
   "cell_type": "code",
   "execution_count": 167,
   "metadata": {},
   "outputs": [
    {
     "data": {
      "text/plain": [
       "TensorShape([4, 4, 1, 16])"
      ]
     },
     "execution_count": 167,
     "metadata": {},
     "output_type": "execute_result"
    }
   ],
   "source": [
    "# Weights of the first convolutional layer of the CNN - which was trained/optimized\n",
    "first_convolutional_layer.weights[0].shape"
   ]
  },
  {
   "cell_type": "markdown",
   "metadata": {},
   "source": [
    "👆 `TensorShape[4, 4, 1, 16]` represents:\n",
    "- the weights of each kernel (size `4` $\\times$ `4`)\n",
    "- there was only `1` channel (single B&W input)\n",
    "- and we have decided to apply `16` different kernels in this layer!"
   ]
  },
  {
   "cell_type": "code",
   "execution_count": 175,
   "metadata": {},
   "outputs": [
    {
     "data": {
      "text/plain": [
       "TensorShape([16])"
      ]
     },
     "execution_count": 175,
     "metadata": {},
     "output_type": "execute_result"
    }
   ],
   "source": [
    "# Biases of the first convolutional layer of the CNN - which was trained/optimized\n",
    "first_convolutional_layer.weights[1].shape"
   ]
  },
  {
   "cell_type": "markdown",
   "metadata": {},
   "source": [
    "👆 Let's not forget the biases, one per new channel in the output image!"
   ]
  },
  {
   "cell_type": "code",
   "execution_count": 162,
   "metadata": {},
   "outputs": [
    {
     "data": {
      "text/plain": [
       "272"
      ]
     },
     "execution_count": 162,
     "metadata": {},
     "output_type": "execute_result"
    }
   ],
   "source": [
    "# Notice that we have indeed 256 weights + 16 biases = 272 parameters for the first convolutional layer\n",
    "4*4*1*16+16"
   ]
  },
  {
   "cell_type": "markdown",
   "metadata": {
    "tags": [
     "challengify"
    ]
   },
   "source": [
    "> YOUR ANSWER HERE"
   ]
  },
  {
   "cell_type": "code",
   "execution_count": 176,
   "metadata": {},
   "outputs": [
    {
     "data": {
      "text/plain": [
       "<keras.layers.convolutional.conv2d.Conv2D at 0x2f7a30c40>"
      ]
     },
     "execution_count": 176,
     "metadata": {},
     "output_type": "execute_result"
    }
   ],
   "source": [
    "# Accessing the second convolutional layer of the CNN\n",
    "second_convolutional_layer = model.layers[2]\n",
    "second_convolutional_layer"
   ]
  },
  {
   "cell_type": "code",
   "execution_count": 177,
   "metadata": {},
   "outputs": [
    {
     "data": {
      "text/plain": [
       "TensorShape([3, 3, 16, 32])"
      ]
     },
     "execution_count": 177,
     "metadata": {},
     "output_type": "execute_result"
    }
   ],
   "source": [
    "# Weights of the second convolutional layer of the CNN - which was trained/optimized\n",
    "second_convolutional_layer.weights[0].shape"
   ]
  },
  {
   "cell_type": "code",
   "execution_count": 178,
   "metadata": {},
   "outputs": [
    {
     "data": {
      "text/plain": [
       "TensorShape([32])"
      ]
     },
     "execution_count": 178,
     "metadata": {},
     "output_type": "execute_result"
    }
   ],
   "source": [
    "# Biases of the second convolutional layer of the CNN - which was trained/optimized\n",
    "second_convolutional_layer.weights[1].shape"
   ]
  },
  {
   "cell_type": "code",
   "execution_count": 179,
   "metadata": {},
   "outputs": [
    {
     "data": {
      "text/plain": [
       "4640"
      ]
     },
     "execution_count": 179,
     "metadata": {},
     "output_type": "execute_result"
    }
   ],
   "source": [
    "# Notice that we have indeed 4608 weights + 32 biases = 4640 parameters for the third convolutional layer\n",
    "3*3*16*32+32"
   ]
  },
  {
   "cell_type": "code",
   "execution_count": 180,
   "metadata": {},
   "outputs": [
    {
     "data": {
      "text/plain": [
       "<keras.layers.convolutional.conv2d.Conv2D at 0x2f5f7fb50>"
      ]
     },
     "execution_count": 180,
     "metadata": {},
     "output_type": "execute_result"
    }
   ],
   "source": [
    "# Accessing the third convolutional layer of the CNN\n",
    "third_convolutional_layer = model.layers[4]\n",
    "third_convolutional_layer"
   ]
  },
  {
   "cell_type": "code",
   "execution_count": 181,
   "metadata": {},
   "outputs": [
    {
     "data": {
      "text/plain": [
       "TensorShape([3, 3, 32, 64])"
      ]
     },
     "execution_count": 181,
     "metadata": {},
     "output_type": "execute_result"
    }
   ],
   "source": [
    "# Weights of the third convolutional layer of the CNN - which was trained/optimized\n",
    "third_convolutional_layer.weights[0].shape"
   ]
  },
  {
   "cell_type": "code",
   "execution_count": 182,
   "metadata": {},
   "outputs": [
    {
     "data": {
      "text/plain": [
       "TensorShape([64])"
      ]
     },
     "execution_count": 182,
     "metadata": {},
     "output_type": "execute_result"
    }
   ],
   "source": [
    "# Biases of the third convolutional layer of the CNN - which was trained/optimized\n",
    "third_convolutional_layer.weights[1].shape"
   ]
  },
  {
   "cell_type": "code",
   "execution_count": 183,
   "metadata": {},
   "outputs": [
    {
     "data": {
      "text/plain": [
       "18496"
      ]
     },
     "execution_count": 183,
     "metadata": {},
     "output_type": "execute_result"
    }
   ],
   "source": [
    "# Notice that we have indeed 18432 weights + 64 biases = 18496 parameters for the fourth convolutional layer\n",
    "3*3*32*64+64"
   ]
  },
  {
   "cell_type": "code",
   "execution_count": 184,
   "metadata": {},
   "outputs": [
    {
     "data": {
      "text/plain": [
       "<keras.layers.convolutional.conv2d.Conv2D at 0x2f7a16c50>"
      ]
     },
     "execution_count": 184,
     "metadata": {},
     "output_type": "execute_result"
    }
   ],
   "source": [
    "# Accessing the fourth convolutional layer of the CNN\n",
    "fourth_convolutional_layer = model.layers[6]\n",
    "fourth_convolutional_layer"
   ]
  },
  {
   "cell_type": "code",
   "execution_count": 185,
   "metadata": {},
   "outputs": [
    {
     "data": {
      "text/plain": [
       "TensorShape([2, 2, 64, 64])"
      ]
     },
     "execution_count": 185,
     "metadata": {},
     "output_type": "execute_result"
    }
   ],
   "source": [
    "# Weights of the fourth convolutional layer of the CNN - which was trained/optimized\n",
    "fourth_convolutional_layer.weights[0].shape"
   ]
  },
  {
   "cell_type": "code",
   "execution_count": 186,
   "metadata": {},
   "outputs": [
    {
     "data": {
      "text/plain": [
       "TensorShape([64])"
      ]
     },
     "execution_count": 186,
     "metadata": {},
     "output_type": "execute_result"
    }
   ],
   "source": [
    "# Biases of the fourth convolutional layer of the CNN - which was trained/optimized\n",
    "fourth_convolutional_layer.weights[1].shape"
   ]
  },
  {
   "cell_type": "code",
   "execution_count": 187,
   "metadata": {},
   "outputs": [
    {
     "data": {
      "text/plain": [
       "16448"
      ]
     },
     "execution_count": 187,
     "metadata": {},
     "output_type": "execute_result"
    }
   ],
   "source": [
    "# Notice that we have indeed 16384 weights + 64 biases = 16448 parameters for the fourth convolutional layer\n",
    "(2*2*64+1)*64"
   ]
  },
  {
   "cell_type": "markdown",
   "metadata": {},
   "source": [
    "🚀 Now that we know how to access the trained weights of each kernel for every convolutional layer, we are going to investigate how they impact the analysis of images.\n",
    "\n",
    "* 🪄 Using **`plot_convolution(activation = True)`**, let's display the 16 kernels from the first convolutional layer, alongside with the activation output, to see what the model has learned from the images in this layer."
   ]
  },
  {
   "cell_type": "code",
   "execution_count": 190,
   "metadata": {
    "tags": [
     "challengify"
    ]
   },
   "outputs": [
    {
     "name": "stderr",
     "output_type": "stream",
     "text": [
      "/var/folders/0g/p_g1qhzs21b7wdvfslhc9m9m0000gn/T/ipykernel_25505/3200103377.py:3: VisibleDeprecationWarning: Creating an ndarray from ragged nested sequences (which is a list-or-tuple of lists-or-tuples-or ndarrays with different lengths or shapes) is deprecated. If you meant to do this, you must specify 'dtype=object' when creating the ndarray.\n",
      "  kernel = np.array(kernel)\n"
     ]
    },
    {
     "ename": "ValueError",
     "evalue": "not enough values to unpack (expected 2, got 1)",
     "output_type": "error",
     "traceback": [
      "\u001b[0;31m---------------------------------------------------------------------------\u001b[0m",
      "\u001b[0;31mValueError\u001b[0m                                Traceback (most recent call last)",
      "\u001b[1;32m/Users/ninaadkalla/code/ninzyyy/data-intuition-on-convolutions/intuitions_on_convolutions.ipynb Cell 88\u001b[0m in \u001b[0;36m2\n\u001b[1;32m      <a href='vscode-notebook-cell:/Users/ninaadkalla/code/ninzyyy/data-intuition-on-convolutions/intuitions_on_convolutions.ipynb#Y140sZmlsZQ%3D%3D?line=0'>1</a>\u001b[0m \u001b[39m# YOUR CODE HERE\u001b[39;00m\n\u001b[0;32m----> <a href='vscode-notebook-cell:/Users/ninaadkalla/code/ninzyyy/data-intuition-on-convolutions/intuitions_on_convolutions.ipynb#Y140sZmlsZQ%3D%3D?line=1'>2</a>\u001b[0m plot_convolution(X_train, first_convolutional_layer\u001b[39m.\u001b[39;49mweights, activation\u001b[39m=\u001b[39;49m\u001b[39mTrue\u001b[39;49;00m)\n",
      "\u001b[1;32m/Users/ninaadkalla/code/ninzyyy/data-intuition-on-convolutions/intuitions_on_convolutions.ipynb Cell 88\u001b[0m in \u001b[0;36m5\n\u001b[1;32m      <a href='vscode-notebook-cell:/Users/ninaadkalla/code/ninzyyy/data-intuition-on-convolutions/intuitions_on_convolutions.ipynb#Y140sZmlsZQ%3D%3D?line=1'>2</a>\u001b[0m \u001b[39m''' The following printing function ease the visualization'''\u001b[39;00m\n\u001b[1;32m      <a href='vscode-notebook-cell:/Users/ninaadkalla/code/ninzyyy/data-intuition-on-convolutions/intuitions_on_convolutions.ipynb#Y140sZmlsZQ%3D%3D?line=3'>4</a>\u001b[0m img \u001b[39m=\u001b[39m np\u001b[39m.\u001b[39msqueeze(img)\n\u001b[0;32m----> <a href='vscode-notebook-cell:/Users/ninaadkalla/code/ninzyyy/data-intuition-on-convolutions/intuitions_on_convolutions.ipynb#Y140sZmlsZQ%3D%3D?line=4'>5</a>\u001b[0m output_img \u001b[39m=\u001b[39m compute_convolution(img, kernel)\n\u001b[1;32m      <a href='vscode-notebook-cell:/Users/ninaadkalla/code/ninzyyy/data-intuition-on-convolutions/intuitions_on_convolutions.ipynb#Y140sZmlsZQ%3D%3D?line=5'>6</a>\u001b[0m \u001b[39mif\u001b[39;00m activation:\n\u001b[1;32m      <a href='vscode-notebook-cell:/Users/ninaadkalla/code/ninzyyy/data-intuition-on-convolutions/intuitions_on_convolutions.ipynb#Y140sZmlsZQ%3D%3D?line=6'>7</a>\u001b[0m     output_img \u001b[39m=\u001b[39m np\u001b[39m.\u001b[39mmaximum(output_img, \u001b[39m0\u001b[39m)\n",
      "\u001b[1;32m/Users/ninaadkalla/code/ninzyyy/data-intuition-on-convolutions/intuitions_on_convolutions.ipynb Cell 88\u001b[0m in \u001b[0;36m4\n\u001b[1;32m      <a href='vscode-notebook-cell:/Users/ninaadkalla/code/ninzyyy/data-intuition-on-convolutions/intuitions_on_convolutions.ipynb#Y140sZmlsZQ%3D%3D?line=0'>1</a>\u001b[0m \u001b[39mdef\u001b[39;00m \u001b[39mcompute_convolution\u001b[39m(input_image, kernel):\n\u001b[1;32m      <a href='vscode-notebook-cell:/Users/ninaadkalla/code/ninzyyy/data-intuition-on-convolutions/intuitions_on_convolutions.ipynb#Y140sZmlsZQ%3D%3D?line=1'>2</a>\u001b[0m     \u001b[39m# Parameters\u001b[39;00m\n\u001b[1;32m      <a href='vscode-notebook-cell:/Users/ninaadkalla/code/ninzyyy/data-intuition-on-convolutions/intuitions_on_convolutions.ipynb#Y140sZmlsZQ%3D%3D?line=2'>3</a>\u001b[0m     kernel \u001b[39m=\u001b[39m np\u001b[39m.\u001b[39marray(kernel)\n\u001b[0;32m----> <a href='vscode-notebook-cell:/Users/ninaadkalla/code/ninzyyy/data-intuition-on-convolutions/intuitions_on_convolutions.ipynb#Y140sZmlsZQ%3D%3D?line=3'>4</a>\u001b[0m     kernel_height, kernel_width \u001b[39m=\u001b[39m kernel\u001b[39m.\u001b[39mshape\n\u001b[1;32m      <a href='vscode-notebook-cell:/Users/ninaadkalla/code/ninzyyy/data-intuition-on-convolutions/intuitions_on_convolutions.ipynb#Y140sZmlsZQ%3D%3D?line=5'>6</a>\u001b[0m     img \u001b[39m=\u001b[39m np\u001b[39m.\u001b[39msqueeze(input_image) \u001b[39m# Removes dimensions of size 1\u001b[39;00m\n\u001b[1;32m      <a href='vscode-notebook-cell:/Users/ninaadkalla/code/ninzyyy/data-intuition-on-convolutions/intuitions_on_convolutions.ipynb#Y140sZmlsZQ%3D%3D?line=6'>7</a>\u001b[0m     img_height, img_width \u001b[39m=\u001b[39m img\u001b[39m.\u001b[39mshape\n",
      "\u001b[0;31mValueError\u001b[0m: not enough values to unpack (expected 2, got 1)"
     ]
    }
   ],
   "source": [
    "# YOUR CODE HERE\n",
    "plot_convolution(X_train, first_convolutional_layer.weights, activation=True)"
   ]
  },
  {
   "cell_type": "markdown",
   "metadata": {},
   "source": [
    "#### (2.3.2) Activations 🧨"
   ]
  },
  {
   "cell_type": "markdown",
   "metadata": {},
   "source": [
    "We have been looking at the activation (\"_output image_\") only after the **first convolutional layer**.\n",
    "\n",
    "🤔 What if we want to **visualize the activation of an image after every convolutional layer of the CNN** ?\n",
    "\n",
    "* 📚 We are going to use the [**Functional API**](https://www.tensorflow.org/guide/keras/functional) from Tensorflow/Keras.\n",
    "\n",
    "* 💪 Stay with us, this is the hardest part of the notebook but also the last one. And we are just asking you to stay focused and read 😉"
   ]
  },
  {
   "cell_type": "markdown",
   "metadata": {},
   "source": [
    "***Step 0️⃣ : Reminders of the CNN's summary***"
   ]
  },
  {
   "cell_type": "code",
   "execution_count": null,
   "metadata": {},
   "outputs": [],
   "source": [
    "model.summary()"
   ]
  },
  {
   "cell_type": "markdown",
   "metadata": {},
   "source": [
    "***Step 1️⃣: listing all the 11 layers' outputs of your CNN***"
   ]
  },
  {
   "cell_type": "code",
   "execution_count": null,
   "metadata": {},
   "outputs": [],
   "source": [
    "layers_outputs = [layer.output for layer in model.layers]\n",
    "layers_outputs"
   ]
  },
  {
   "cell_type": "markdown",
   "metadata": {},
   "source": [
    "***Step 2️⃣ : Instantiate 11 sub-models re-using already trained weights and biases***\n",
    "- layer1\n",
    "- layer1 $ \\Rightarrow $ layer2\n",
    "- layer1 $ \\Rightarrow $ layer2 $ \\Rightarrow $ layer3\n",
    "- ... "
   ]
  },
  {
   "cell_type": "code",
   "execution_count": null,
   "metadata": {},
   "outputs": [],
   "source": [
    "from tensorflow.keras import Model\n",
    "\n",
    "activation_models = [Model(inputs=model.input, outputs=output) for output in layers_outputs]"
   ]
  },
  {
   "cell_type": "markdown",
   "metadata": {},
   "source": [
    "***Step 3️⃣ : Compute the outputs of each submodel***"
   ]
  },
  {
   "cell_type": "code",
   "execution_count": null,
   "metadata": {},
   "outputs": [],
   "source": [
    "activations = [m.predict(X) for m in activation_models]\n",
    "len(activations)"
   ]
  },
  {
   "cell_type": "code",
   "execution_count": null,
   "metadata": {},
   "outputs": [],
   "source": [
    "[activation.shape for activation in activations]"
   ]
  },
  {
   "cell_type": "markdown",
   "metadata": {},
   "source": [
    "😎 PRO TIP:\n",
    "* In Tensorflow, you can also create a single model with many outputs to avoid Python loops / list comprehensions\n",
    "* Steps 1️⃣ 2️⃣ 3️⃣ can be done as follows:"
   ]
  },
  {
   "cell_type": "code",
   "execution_count": null,
   "metadata": {},
   "outputs": [],
   "source": [
    "layers_outputs = [layer.output for layer in model.layers] # same as above\n",
    "activation_model = Model(inputs=model.input, outputs=layers_outputs) # model with many outputs !\n",
    "activations = activation_model.predict(X) # 11 predictions at once!\n",
    "[activation.shape for activation in activations]"
   ]
  },
  {
   "cell_type": "markdown",
   "metadata": {},
   "source": [
    "#### (2.3.3) The final show 🥁"
   ]
  },
  {
   "cell_type": "markdown",
   "metadata": {},
   "source": [
    "🔥 Now that the activations are computed, we can choose one image in the dataset and observe the different \"activation images\" through each convolutional layer! In other terms, we are now able to observe what the CNN sees for each image! "
   ]
  },
  {
   "cell_type": "markdown",
   "metadata": {},
   "source": [
    "* 👇 Run the code down below and observe how a triangle was seen through the different convolutional layers."
   ]
  },
  {
   "cell_type": "code",
   "execution_count": null,
   "metadata": {},
   "outputs": [],
   "source": [
    "# Selecting a random triangle\n",
    "image_number = np.random.choice(np.where(y == 1)[0]) \n",
    "\n",
    "for layer_number in [0,2,4,6]:\n",
    "    \n",
    "    print(f\"--- Observing the effect of the convolutional layer number {layer_number}... ---\")\n",
    "    print(\"\")\n",
    "    \n",
    "    temp_number_kernels = model.layers[layer_number].weights[0].shape[-1]\n",
    "    print(f\"{temp_number_kernels} kernels were applied and here are all the activations of this Conv2D Layer:\")\n",
    "    \n",
    "    fig, axes = plt.subplots(int(temp_number_kernels/4),4, figsize=(20,7))\n",
    "    \n",
    "    \n",
    "    for ax, kernel_number in zip(axes.flat,range(temp_number_kernels)):\n",
    "        activation = activations[layer_number][image_number][:, :, kernel_number]\n",
    "        ax.imshow(activation, cmap=\"gray\")\n",
    "    \n",
    "    plt.show()\n"
   ]
  },
  {
   "cell_type": "markdown",
   "metadata": {},
   "source": [
    "* 👇 Run the code down below and observe how a circle) was seen through the different convolutional layers."
   ]
  },
  {
   "cell_type": "code",
   "execution_count": null,
   "metadata": {},
   "outputs": [],
   "source": [
    "# Selecting a random triangle\n",
    "image_number = np.random.choice(np.where(y == 0)[0]) \n",
    "\n",
    "for layer_number in [0,2,4,6]:\n",
    "    \n",
    "    print(f\"--- Observing the effect of the convolutional layer number {layer_number}... ---\")\n",
    "    print(\"\")\n",
    "    \n",
    "    temp_number_kernels = model.layers[layer_number].weights[0].shape[-1]\n",
    "    print(f\"{temp_number_kernels} kernels were applied and here are all the activations of this Conv2D Layer:\")\n",
    "    \n",
    "    fig, axes = plt.subplots(int(temp_number_kernels/4),4, figsize=(20,7))\n",
    "    \n",
    "    \n",
    "    for ax, kernel_number in zip(axes.flat,range(temp_number_kernels)):\n",
    "        activation = activations[layer_number][image_number][:, :, kernel_number]\n",
    "        ax.imshow(activation, cmap=\"gray\")\n",
    "    \n",
    "    plt.show()\n"
   ]
  },
  {
   "cell_type": "markdown",
   "metadata": {},
   "source": [
    "🧑🏻‍🏫 ***Notes*** 🧑🏻‍🏫\n",
    "\n",
    "1. Notice how the information of an image **flows** through the Convolutional Neural Network.\n",
    "2. You should see the picture becoming more and more \"abstract\", of smaller and smaller \"dimensions\"\n",
    "\n",
    "🕹 Feel free to play with the [CNN Explainer](https://poloclub.github.io/cnn-explainer/) from researchers at [Georgia Tech](https://www.gatech.edu/)"
   ]
  },
  {
   "cell_type": "markdown",
   "metadata": {},
   "source": [
    "🏁 **Congratulations!**\n",
    "\n",
    "💾 Don't forget to `git add/commit/push` your notebook...\n",
    "\n",
    "🚀 ... and move on to the next challenge!"
   ]
  },
  {
   "cell_type": "markdown",
   "metadata": {},
   "source": [
    "## (Appendix) Utils\n",
    "\n",
    "* The following section simply presents the functions that helped us create the dataset with triangles and circles you have been working with.\n",
    "\n",
    "* They were left at the end of the notebook just in case you want to further prototype and get better understanding of what is going on. \n",
    "\n",
    "* But ***for this first day discovering Computer Vision, skip this section and go to the next exercise***, you can always come back to it any time later."
   ]
  },
  {
   "cell_type": "code",
   "execution_count": null,
   "metadata": {},
   "outputs": [],
   "source": [
    "def draw_triangle():\n",
    "    dx = np.random.uniform(0.1, 0.3)\n",
    "    dy = np.random.uniform(0.1, 0.3)\n",
    "    noise_x = np.random.uniform(0.0, 0.1)\n",
    "    noise_y = np.random.uniform(0.0, 0.1)    \n",
    "    \n",
    "    x = np.random.uniform(0, 1-dx-noise_x)\n",
    "    y = np.random.uniform(0, 1-dy)\n",
    "    X = np.array([[x,y], [x+dx+noise_x,y], [x+dx/2, y+dy+noise_y]])\n",
    "\n",
    "    t1 = plt.Polygon(X, color='black')\n",
    "    plt.gca().add_patch(t1)\n",
    "    \n",
    "def draw_circle():\n",
    "    r = np.random.uniform(0.1, 0.25)\n",
    "    x = np.random.uniform(0+r, 1-r)\n",
    "    y = np.random.uniform(0+r, 1-r)\n",
    "\n",
    "    circle1 = plt.Circle((x, y), r, color='black')\n",
    "    plt.gcf().gca().add_artist(circle1)\n",
    "    \n",
    "def create_image(form, path):\n",
    "    plt.figure(figsize=(1, 1))\n",
    "    if form == 'circle':\n",
    "        draw_circle()\n",
    "    elif form == 'triangle':\n",
    "        draw_triangle()\n",
    "    plt.axis('off')\n",
    "    plt.savefig(path, dpi=80, bbox_inches='tight')\n",
    "    plt.close()\n",
    "\n",
    "    \n",
    "def create_images(path):\n",
    "    nb_circles = 100\n",
    "    nb_triangles = 100\n",
    "    \n",
    "    for i in range(nb_circles):\n",
    "        c_path = os.path.join(path, 'circles', f'circle_{i}.png')\n",
    "        create_image('circle', c_path)\n",
    "        \n",
    "    for i in range(nb_triangles):\n",
    "        t_path = os.path.join(path, 'triangles', f'triangle_{i}.png')\n",
    "        create_image('triangle', t_path)"
   ]
  }
 ],
 "metadata": {
  "kernelspec": {
   "display_name": "Python 3",
   "language": "python",
   "name": "python3"
  },
  "language_info": {
   "codemirror_mode": {
    "name": "ipython",
    "version": 3
   },
   "file_extension": ".py",
   "mimetype": "text/x-python",
   "name": "python",
   "nbconvert_exporter": "python",
   "pygments_lexer": "ipython3",
   "version": "3.10.6"
  }
 },
 "nbformat": 4,
 "nbformat_minor": 4
}
